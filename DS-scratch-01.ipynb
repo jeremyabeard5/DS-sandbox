{
 "cells": [
  {
   "cell_type": "code",
   "execution_count": 1,
   "id": "a506dd66",
   "metadata": {},
   "outputs": [
    {
     "name": "stdout",
     "output_type": "stream",
     "text": [
      "[{'id': 0, 'name': 'Hero'}, {'id': 1, 'name': 'Dunn'}, {'id': 2, 'name': 'Sue'}, {'id': 3, 'name': 'Chi'}, {'id': 4, 'name': 'Thor'}, {'id': 5, 'name': 'Clive'}, {'id': 6, 'name': 'Hicks'}, {'id': 7, 'name': 'Devin'}, {'id': 8, 'name': 'Kate'}, {'id': 9, 'name': 'Klein'}]\n"
     ]
    }
   ],
   "source": [
    "users = [\n",
    "    { \"id\": 0, \"name\": \"Hero\" },\n",
    "    { \"id\": 1, \"name\": \"Dunn\" },\n",
    "    { \"id\": 2, \"name\": \"Sue\" },\n",
    "    { \"id\": 3, \"name\": \"Chi\" },\n",
    "    { \"id\": 4, \"name\": \"Thor\" },\n",
    "    { \"id\": 5, \"name\": \"Clive\" },\n",
    "    { \"id\": 6, \"name\": \"Hicks\" },\n",
    "    { \"id\": 7, \"name\": \"Devin\" },\n",
    "    { \"id\": 8, \"name\": \"Kate\" },\n",
    "    { \"id\": 9, \"name\": \"Klein\" }\n",
    "]\n",
    "\n",
    "print(users)"
   ]
  },
  {
   "cell_type": "code",
   "execution_count": 2,
   "id": "733538e0",
   "metadata": {},
   "outputs": [
    {
     "name": "stdout",
     "output_type": "stream",
     "text": [
      "[(0, 1), (0, 2), (1, 2), (1, 3), (2, 3), (3, 4), (4, 5), (5, 6), (5, 7), (6, 8), (7, 8), (8, 9)]\n"
     ]
    }
   ],
   "source": [
    "friendship_pairs = [(0, 1), (0, 2), (1, 2), (1, 3), (2, 3), (3, 4), (4, 5), (5, 6), (5, 7), (6, 8), (7, 8), (8, 9)]\n",
    "print(friendship_pairs)"
   ]
  },
  {
   "cell_type": "code",
   "execution_count": 3,
   "id": "f3d56fc9",
   "metadata": {},
   "outputs": [
    {
     "name": "stdout",
     "output_type": "stream",
     "text": [
      "{0: [], 1: [], 2: [], 3: [], 4: [], 5: [], 6: [], 7: [], 8: [], 9: []}\n"
     ]
    }
   ],
   "source": [
    "friendships = {user[\"id\"]: [] for user in users}\n",
    "print(friendships)"
   ]
  },
  {
   "cell_type": "code",
   "execution_count": 4,
   "id": "467a3acf",
   "metadata": {},
   "outputs": [
    {
     "name": "stdout",
     "output_type": "stream",
     "text": [
      "{0: [1, 2], 1: [0, 2, 3], 2: [0, 1, 3], 3: [1, 2, 4], 4: [3, 5], 5: [4, 6, 7], 6: [5, 8], 7: [5, 8], 8: [6, 7, 9], 9: [8]}\n"
     ]
    }
   ],
   "source": [
    "for i, j in friendship_pairs:\n",
    "    friendships[i].append(j) # j is a friend of user i\n",
    "    friendships[j].append(i) # i is a friend of user j\n",
    "    \n",
    "print(friendships)"
   ]
  },
  {
   "cell_type": "code",
   "execution_count": 5,
   "id": "13d58aae",
   "metadata": {},
   "outputs": [
    {
     "name": "stdout",
     "output_type": "stream",
     "text": [
      "User 0 has 2 connections.\n",
      "User 1 has 3 connections.\n",
      "User 2 has 3 connections.\n",
      "User 3 has 3 connections.\n",
      "User 4 has 2 connections.\n",
      "User 5 has 3 connections.\n",
      "User 6 has 2 connections.\n",
      "User 7 has 2 connections.\n",
      "User 8 has 3 connections.\n",
      "User 9 has 1 connections.\n",
      "24\n"
     ]
    }
   ],
   "source": [
    "def number_of_friends(user):\n",
    "    \"\"\"How many friends does _user have?\"\"\"\n",
    "    user_id = user[\"id\"]\n",
    "    friend_ids = friendships[user_id]\n",
    "    num = len(friend_ids)\n",
    "    print(f'User {user_id} has {num} connections.')\n",
    "    return num\n",
    "\n",
    "total_connections = sum(number_of_friends(user) for user in users)\n",
    "\n",
    "print(total_connections)"
   ]
  },
  {
   "cell_type": "code",
   "execution_count": 6,
   "id": "57a061ca",
   "metadata": {},
   "outputs": [
    {
     "name": "stdout",
     "output_type": "stream",
     "text": [
      "10\n"
     ]
    }
   ],
   "source": [
    "num_users = len(users)\n",
    "print(num_users)"
   ]
  },
  {
   "cell_type": "code",
   "execution_count": 7,
   "id": "c101bbbb",
   "metadata": {},
   "outputs": [
    {
     "name": "stdout",
     "output_type": "stream",
     "text": [
      "2.4\n"
     ]
    }
   ],
   "source": [
    "avg_connections = total_connections / num_users\n",
    "print(avg_connections)"
   ]
  },
  {
   "cell_type": "code",
   "execution_count": 8,
   "id": "0cbc70ee",
   "metadata": {},
   "outputs": [
    {
     "name": "stdout",
     "output_type": "stream",
     "text": [
      "User 0 has 2 connections.\n",
      "User 1 has 3 connections.\n",
      "User 2 has 3 connections.\n",
      "User 3 has 3 connections.\n",
      "User 4 has 2 connections.\n",
      "User 5 has 3 connections.\n",
      "User 6 has 2 connections.\n",
      "User 7 has 2 connections.\n",
      "User 8 has 3 connections.\n",
      "User 9 has 1 connections.\n",
      "[(0, 2), (1, 3), (2, 3), (3, 3), (4, 2), (5, 3), (6, 2), (7, 2), (8, 3), (9, 1)]\n"
     ]
    }
   ],
   "source": [
    "num_friends_by_id = [(user[\"id\"], number_of_friends(user)) for user in users]\n",
    "print(num_friends_by_id)"
   ]
  },
  {
   "cell_type": "code",
   "execution_count": 9,
   "id": "0361562e",
   "metadata": {},
   "outputs": [
    {
     "name": "stdout",
     "output_type": "stream",
     "text": [
      "[(1, 3), (2, 3), (3, 3), (5, 3), (8, 3), (0, 2), (4, 2), (6, 2), (7, 2), (9, 1)]\n"
     ]
    }
   ],
   "source": [
    "num_friends_by_id.sort(key=lambda id_and_friends: id_and_friends[1], reverse=True)\n",
    "print(num_friends_by_id)"
   ]
  },
  {
   "cell_type": "code",
   "execution_count": 10,
   "id": "283a70be",
   "metadata": {},
   "outputs": [
    {
     "name": "stdout",
     "output_type": "stream",
     "text": [
      "[0, 2, 3, 0, 1, 3]\n"
     ]
    }
   ],
   "source": [
    "def foaf_ids_bad(user):\n",
    "    \"\"\"friend of a friend\"\"\"\n",
    "    num = [foaf_id for friend_id in friendships[user[\"id\"]] for foaf_id in friendships[friend_id]]\n",
    "    return num\n",
    "\n",
    "print(foaf_ids_bad(users[0]))"
   ]
  },
  {
   "cell_type": "code",
   "execution_count": 11,
   "id": "97563838",
   "metadata": {},
   "outputs": [
    {
     "name": "stdout",
     "output_type": "stream",
     "text": [
      "Counter({0: 2, 5: 1})\n"
     ]
    }
   ],
   "source": [
    "from collections import Counter\n",
    "\n",
    "def friends_of_friends(user):\n",
    "    user_id = user[\"id\"]\n",
    "    num = Counter(foaf_id \n",
    "                  for friend_id in friendships[user_id] \n",
    "                  for foaf_id in friendships[friend_id]\n",
    "                  if foaf_id != user_id\n",
    "                  and foaf_id not in friendships[user_id]\n",
    "                 )\n",
    "    return num\n",
    "    \n",
    "print(friends_of_friends(users[3]))"
   ]
  },
  {
   "cell_type": "code",
   "execution_count": 12,
   "id": "0574f0b6",
   "metadata": {},
   "outputs": [],
   "source": [
    "interests = [\n",
    "    (0, \"Hadoop\"), (0, \"Big Data\"), (0, \"HBase\"), (0, \"Java\"),\n",
    "    (0, \"Spark\"), (0, \"Storm\"), (0, \"Cassandra\"),\n",
    "    (1, \"NoSQL\"), (1, \"MongoDB\"), (1, \"Cassandra\"), (1, \"HBase\"),\n",
    "    (1, \"Postgres\"), (2, \"Python\"), (2, \"scikit-learn\"), (2, \"scipy\"),\n",
    "    (2, \"numpy\"), (2, \"statsmodels\"), (2, \"pandas\"), (3, \"R\"), (3, \"Python\"),\n",
    "    (3, \"statistics\"), (3, \"regression\"), (3, \"probability\"),\n",
    "    (4, \"machine learning\"), (4, \"regression\"), (4, \"decision trees\"),\n",
    "    (4, \"libsvm\"), (5, \"Python\"), (5, \"R\"), (5, \"Java\"), (5, \"C++\"),\n",
    "    (5, \"Haskell\"), (5, \"programming languages\"), (6, \"statistics\"),\n",
    "    (6, \"probability\"), (6, \"mathematics\"), (6, \"theory\"),\n",
    "    (7, \"machine learning\"), (7, \"scikit-learn\"), (7, \"Mahout\"),\n",
    "    (7, \"neural networks\"), (8, \"neural networks\"), (8, \"deep learning\"),\n",
    "    (8, \"Big Data\"), (8, \"artificial intelligence\"), (9, \"Hadoop\"),\n",
    "    (9, \"Java\"), (9, \"MapReduce\"), (9, \"Big Data\")\n",
    "]"
   ]
  },
  {
   "cell_type": "code",
   "execution_count": 13,
   "id": "751e88ca",
   "metadata": {},
   "outputs": [
    {
     "name": "stdout",
     "output_type": "stream",
     "text": [
      "[0, 5, 9]\n"
     ]
    }
   ],
   "source": [
    "def data_scientists_who_like(target_interest):\n",
    "    \"\"\"Find ids of users who like target interest\"\"\"\n",
    "    return [user_id for user_id, user_interest in interests\n",
    "           if user_interest==target_interest]\n",
    "\n",
    "print(data_scientists_who_like(\"Java\"))"
   ]
  },
  {
   "cell_type": "code",
   "execution_count": 14,
   "id": "7853e10a",
   "metadata": {},
   "outputs": [
    {
     "name": "stdout",
     "output_type": "stream",
     "text": [
      "defaultdict(<class 'list'>, {'Hadoop': [0, 9], 'Big Data': [0, 8, 9], 'HBase': [0, 1], 'Java': [0, 5, 9], 'Spark': [0], 'Storm': [0], 'Cassandra': [0, 1], 'NoSQL': [1], 'MongoDB': [1], 'Postgres': [1], 'Python': [2, 3, 5], 'scikit-learn': [2, 7], 'scipy': [2], 'numpy': [2], 'statsmodels': [2], 'pandas': [2], 'R': [3, 5], 'statistics': [3, 6], 'regression': [3, 4], 'probability': [3, 6], 'machine learning': [4, 7], 'decision trees': [4], 'libsvm': [4], 'C++': [5], 'Haskell': [5], 'programming languages': [5], 'mathematics': [6], 'theory': [6], 'Mahout': [7], 'neural networks': [7, 8], 'deep learning': [8], 'artificial intelligence': [8], 'MapReduce': [9]})\n"
     ]
    }
   ],
   "source": [
    "from collections import defaultdict\n",
    "\n",
    "# Keys are interests, values are lists of user_ids with that interest\n",
    "user_ids_by_interest = defaultdict(list)\n",
    "\n",
    "for user_id, interest in interests:\n",
    "    user_ids_by_interest[interest].append(user_id)\n",
    "    \n",
    "print(user_ids_by_interest)"
   ]
  },
  {
   "cell_type": "code",
   "execution_count": 15,
   "id": "c3a4543b",
   "metadata": {},
   "outputs": [
    {
     "name": "stdout",
     "output_type": "stream",
     "text": [
      "defaultdict(<class 'list'>, {0: ['Hadoop', 'Big Data', 'HBase', 'Java', 'Spark', 'Storm', 'Cassandra'], 1: ['NoSQL', 'MongoDB', 'Cassandra', 'HBase', 'Postgres'], 2: ['Python', 'scikit-learn', 'scipy', 'numpy', 'statsmodels', 'pandas'], 3: ['R', 'Python', 'statistics', 'regression', 'probability'], 4: ['machine learning', 'regression', 'decision trees', 'libsvm'], 5: ['Python', 'R', 'Java', 'C++', 'Haskell', 'programming languages'], 6: ['statistics', 'probability', 'mathematics', 'theory'], 7: ['machine learning', 'scikit-learn', 'Mahout', 'neural networks'], 8: ['neural networks', 'deep learning', 'Big Data', 'artificial intelligence'], 9: ['Hadoop', 'Java', 'MapReduce', 'Big Data']})\n"
     ]
    }
   ],
   "source": [
    "# Keys are user_ids, values are lists of interests for that user_id\n",
    "interests_by_user_id = defaultdict(list)\n",
    "\n",
    "for user_id, interest in interests:\n",
    "    interests_by_user_id[user_id].append(interest)\n",
    "    \n",
    "print(interests_by_user_id)"
   ]
  },
  {
   "cell_type": "code",
   "execution_count": 16,
   "id": "d5963bad",
   "metadata": {},
   "outputs": [],
   "source": [
    "def most_common_interests_with(user):\n",
    "    return Counter(\n",
    "        interested_user_id\n",
    "        for interest in interests_by_user_id[user[\"id\"]]\n",
    "        for interested_user_id in user_ids_by_interest[interest]\n",
    "        if interested_user_id != user[\"id\"]\n",
    "    )"
   ]
  },
  {
   "cell_type": "code",
   "execution_count": null,
   "id": "5f4ecd44",
   "metadata": {},
   "outputs": [],
   "source": []
  },
  {
   "cell_type": "code",
   "execution_count": 17,
   "id": "5ab2fbcf",
   "metadata": {},
   "outputs": [],
   "source": [
    "salaries_and_tenures = [(83000, 8.7), (88000, 8.1),\n",
    "                        (48000, 0.7), (76000, 6),\n",
    "                        (69000, 6.5), (76000, 7.5),\n",
    "                        (60000, 2.5), (83000, 10),\n",
    "                        (48000, 1.9), (63000, 4.2)]\n"
   ]
  },
  {
   "cell_type": "code",
   "execution_count": 18,
   "id": "48a2fa98",
   "metadata": {},
   "outputs": [],
   "source": [
    "# keys are years, values are lists of the salaries for each tenure\n",
    "salary_by_tenure = defaultdict(list)\n",
    "\n",
    "for salary, tenure in salaries_and_tenures:\n",
    "    salary_by_tenure[tenure].append(salary)\n",
    "    \n",
    "# keys are years, each value is average salary for that tenure\n",
    "average_salary_by_tenure = {\n",
    "    tenure: sum(salaries) / len(salaries)\n",
    "    for tenure, salaries in salary_by_tenure.items()\n",
    "}"
   ]
  },
  {
   "cell_type": "code",
   "execution_count": 19,
   "id": "a0c702fb",
   "metadata": {},
   "outputs": [
    {
     "name": "stdout",
     "output_type": "stream",
     "text": [
      "defaultdict(<class 'list'>, {8.7: [83000], 8.1: [88000], 0.7: [48000], 6: [76000], 6.5: [69000], 7.5: [76000], 2.5: [60000], 10: [83000], 1.9: [48000], 4.2: [63000]})\n"
     ]
    }
   ],
   "source": [
    "print(salary_by_tenure)"
   ]
  },
  {
   "cell_type": "code",
   "execution_count": 20,
   "id": "4986e50a",
   "metadata": {},
   "outputs": [
    {
     "name": "stdout",
     "output_type": "stream",
     "text": [
      "{8.7: 83000.0, 8.1: 88000.0, 0.7: 48000.0, 6: 76000.0, 6.5: 69000.0, 7.5: 76000.0, 2.5: 60000.0, 10: 83000.0, 1.9: 48000.0, 4.2: 63000.0}\n"
     ]
    }
   ],
   "source": [
    "print(average_salary_by_tenure)"
   ]
  },
  {
   "cell_type": "code",
   "execution_count": 21,
   "id": "47166bb0",
   "metadata": {},
   "outputs": [],
   "source": [
    "def tenure_bucket(tenure):\n",
    "    if tenure < 2:\n",
    "        return \"less than 2\"\n",
    "    elif tenure < 5:\n",
    "        return \"between two and five\"\n",
    "    else:\n",
    "        return \"more than five\""
   ]
  },
  {
   "cell_type": "code",
   "execution_count": 22,
   "id": "20981a77",
   "metadata": {},
   "outputs": [
    {
     "name": "stdout",
     "output_type": "stream",
     "text": [
      "defaultdict(<class 'list'>, {'more than five': [83000, 88000, 76000, 69000, 76000, 83000], 'less than 2': [48000, 48000], 'between two and five': [60000, 63000]})\n"
     ]
    }
   ],
   "source": [
    "# keys are tenure buckets, values are lists of salaries for that bucket\n",
    "salary_by_tenure_bucket = defaultdict(list)\n",
    "\n",
    "for salary, tenure in salaries_and_tenures:\n",
    "    bucket = tenure_bucket(tenure)\n",
    "    salary_by_tenure_bucket[bucket].append(salary)\n",
    "    \n",
    "print(salary_by_tenure_bucket)"
   ]
  },
  {
   "cell_type": "code",
   "execution_count": 23,
   "id": "d8ab2ebe",
   "metadata": {},
   "outputs": [
    {
     "name": "stdout",
     "output_type": "stream",
     "text": [
      "{'more than five': 79166.66666666667, 'less than 2': 48000.0, 'between two and five': 61500.0}\n"
     ]
    }
   ],
   "source": [
    "# keys are tenure buckets, values are average salary for that bucket\n",
    "average_salary_by_bucket = {\n",
    "    tenure_bucket: sum(salaries) / len(salaries)\n",
    "    for tenure_bucket, salaries in salary_by_tenure_bucket.items()\n",
    "}\n",
    "\n",
    "print(average_salary_by_bucket)"
   ]
  },
  {
   "cell_type": "code",
   "execution_count": 24,
   "id": "036a1941",
   "metadata": {},
   "outputs": [],
   "source": [
    "interests = [\n",
    "    (0, \"Hadoop\"), (0, \"Big Data\"), (0, \"HBase\"), (0, \"Java\"),\n",
    "    (0, \"Spark\"), (0, \"Storm\"), (0, \"Cassandra\"),\n",
    "    (1, \"NoSQL\"), (1, \"MongoDB\"), (1, \"Cassandra\"), (1, \"HBase\"),\n",
    "    (1, \"Postgres\"), (2, \"Python\"), (2, \"scikit-learn\"), (2, \"scipy\"),\n",
    "    (2, \"numpy\"), (2, \"statsmodels\"), (2, \"pandas\"), (3, \"R\"), (3, \"Python\"),\n",
    "    (3, \"statistics\"), (3, \"regression\"), (3, \"probability\"),\n",
    "    (4, \"machine learning\"), (4, \"regression\"), (4, \"decision trees\"),\n",
    "    (4, \"libsvm\"), (5, \"Python\"), (5, \"R\"), (5, \"Java\"), (5, \"C++\"),\n",
    "    (5, \"Haskell\"), (5, \"programming languages\"), (6, \"statistics\"),\n",
    "    (6, \"probability\"), (6, \"mathematics\"), (6, \"theory\"),\n",
    "    (7, \"machine learning\"), (7, \"scikit-learn\"), (7, \"Mahout\"),\n",
    "    (7, \"neural networks\"), (8, \"neural networks\"), (8, \"deep learning\"),\n",
    "    (8, \"Big Data\"), (8, \"artificial intelligence\"), (9, \"Hadoop\"),\n",
    "    (9, \"Java\"), (9, \"MapReduce\"), (9, \"Big Data\")\n",
    "]"
   ]
  },
  {
   "cell_type": "code",
   "execution_count": 25,
   "id": "1704e145",
   "metadata": {},
   "outputs": [
    {
     "name": "stdout",
     "output_type": "stream",
     "text": [
      "Counter({'big': 3, 'data': 3, 'java': 3, 'python': 3, 'learning': 3, 'hadoop': 2, 'hbase': 2, 'cassandra': 2, 'scikit-learn': 2, 'r': 2, 'statistics': 2, 'regression': 2, 'probability': 2, 'machine': 2, 'neural': 2, 'networks': 2, 'spark': 1, 'storm': 1, 'nosql': 1, 'mongodb': 1, 'postgres': 1, 'scipy': 1, 'numpy': 1, 'statsmodels': 1, 'pandas': 1, 'decision': 1, 'trees': 1, 'libsvm': 1, 'c++': 1, 'haskell': 1, 'programming': 1, 'languages': 1, 'mathematics': 1, 'theory': 1, 'mahout': 1, 'deep': 1, 'artificial': 1, 'intelligence': 1, 'mapreduce': 1})\n"
     ]
    }
   ],
   "source": [
    "words_and_counts = Counter(word\n",
    "                          for user, interest in interests\n",
    "                          for word in interest.lower().split())\n",
    "\n",
    "print(words_and_counts)"
   ]
  },
  {
   "cell_type": "code",
   "execution_count": 26,
   "id": "9f6e11cc",
   "metadata": {},
   "outputs": [
    {
     "name": "stdout",
     "output_type": "stream",
     "text": [
      "big 3\n",
      "data 3\n",
      "java 3\n",
      "python 3\n",
      "learning 3\n",
      "hadoop 2\n",
      "hbase 2\n",
      "cassandra 2\n",
      "scikit-learn 2\n",
      "r 2\n",
      "statistics 2\n",
      "regression 2\n",
      "probability 2\n",
      "machine 2\n",
      "neural 2\n",
      "networks 2\n"
     ]
    }
   ],
   "source": [
    "for word, count in words_and_counts.most_common():\n",
    "    if count > 1:\n",
    "        print(word, count)"
   ]
  },
  {
   "cell_type": "code",
   "execution_count": 27,
   "id": "eecc0c16",
   "metadata": {},
   "outputs": [],
   "source": [
    "tweet = {\n",
    "    \"user\": \"joelgrus\",\n",
    "    \"text\": \"Data Science is awesome\",\n",
    "    \"retweet_count\": 90,\n",
    "    \"hashtags\": [\"#data\", \"#science\", \"#datascience\", \"#awesome\", \"#yolo\"]\n",
    "}"
   ]
  },
  {
   "cell_type": "code",
   "execution_count": 28,
   "id": "efd9e8c1",
   "metadata": {},
   "outputs": [
    {
     "name": "stdout",
     "output_type": "stream",
     "text": [
      "dict_keys(['user', 'text', 'retweet_count', 'hashtags'])\n"
     ]
    }
   ],
   "source": [
    "print(tweet.keys())"
   ]
  },
  {
   "cell_type": "code",
   "execution_count": 29,
   "id": "61d13ba4",
   "metadata": {},
   "outputs": [
    {
     "name": "stdout",
     "output_type": "stream",
     "text": [
      "dict_values(['joelgrus', 'Data Science is awesome', 90, ['#data', '#science', '#datascience', '#awesome', '#yolo']])\n"
     ]
    }
   ],
   "source": [
    "print(tweet.values())"
   ]
  },
  {
   "cell_type": "code",
   "execution_count": 30,
   "id": "0a453f10",
   "metadata": {},
   "outputs": [
    {
     "name": "stdout",
     "output_type": "stream",
     "text": [
      "dict_items([('user', 'joelgrus'), ('text', 'Data Science is awesome'), ('retweet_count', 90), ('hashtags', ['#data', '#science', '#datascience', '#awesome', '#yolo'])])\n"
     ]
    }
   ],
   "source": [
    "print(tweet.items())"
   ]
  },
  {
   "cell_type": "code",
   "execution_count": 31,
   "id": "2604f5fd",
   "metadata": {},
   "outputs": [
    {
     "name": "stdout",
     "output_type": "stream",
     "text": [
      "False\n"
     ]
    }
   ],
   "source": [
    "print(90 in tweet)"
   ]
  },
  {
   "cell_type": "code",
   "execution_count": 32,
   "id": "6e557bb7",
   "metadata": {},
   "outputs": [
    {
     "name": "stdout",
     "output_type": "stream",
     "text": [
      "True\n"
     ]
    }
   ],
   "source": [
    "print(90 in tweet.values())"
   ]
  },
  {
   "cell_type": "code",
   "execution_count": 33,
   "id": "a1f45979",
   "metadata": {},
   "outputs": [
    {
     "name": "stdout",
     "output_type": "stream",
     "text": [
      "True\n"
     ]
    }
   ],
   "source": [
    "print(\"text\" in tweet)"
   ]
  },
  {
   "cell_type": "code",
   "execution_count": 34,
   "id": "f316adcf",
   "metadata": {},
   "outputs": [
    {
     "name": "stdout",
     "output_type": "stream",
     "text": [
      "hey this is a test of a python dict test this should show us if the counts of words works\n"
     ]
    }
   ],
   "source": [
    "document = \"hey this is a test of a python dict test this should show us if the counts of words works\"\n",
    "print(document)"
   ]
  },
  {
   "cell_type": "code",
   "execution_count": 35,
   "id": "ea31fc68",
   "metadata": {},
   "outputs": [
    {
     "name": "stdout",
     "output_type": "stream",
     "text": [
      "['hey', 'this', 'is', 'a', 'test', 'of', 'a', 'python', 'dict', 'test', 'this', 'should', 'show', 'us', 'if', 'the', 'counts', 'of', 'words', 'works']\n"
     ]
    }
   ],
   "source": [
    "document = document.split(\" \")\n",
    "print(document)"
   ]
  },
  {
   "cell_type": "code",
   "execution_count": 36,
   "id": "5318cf61",
   "metadata": {},
   "outputs": [
    {
     "name": "stdout",
     "output_type": "stream",
     "text": [
      "{'hey': 1, 'this': 2, 'is': 1, 'a': 2, 'test': 2, 'of': 2, 'python': 1, 'dict': 1, 'should': 1, 'show': 1, 'us': 1, 'if': 1, 'the': 1, 'counts': 1, 'words': 1, 'works': 1}\n"
     ]
    }
   ],
   "source": [
    "word_counts = {}\n",
    "for word in document:\n",
    "    try:\n",
    "        word_counts[word] += 1\n",
    "    except:\n",
    "        word_counts[word] = 1\n",
    "        \n",
    "print(word_counts)"
   ]
  },
  {
   "cell_type": "code",
   "execution_count": 37,
   "id": "46e9c341",
   "metadata": {},
   "outputs": [
    {
     "name": "stdout",
     "output_type": "stream",
     "text": [
      "Counter({'this': 2, 'a': 2, 'test': 2, 'of': 2, 'hey': 1, 'is': 1, 'python': 1, 'dict': 1, 'should': 1, 'show': 1, 'us': 1, 'if': 1, 'the': 1, 'counts': 1, 'words': 1, 'works': 1})\n"
     ]
    }
   ],
   "source": [
    "from collections import Counter\n",
    "word_counts = Counter(document)\n",
    "print(word_counts)"
   ]
  },
  {
   "cell_type": "code",
   "execution_count": 38,
   "id": "12631a4b",
   "metadata": {},
   "outputs": [
    {
     "name": "stdout",
     "output_type": "stream",
     "text": [
      "[('this', 2), ('a', 2), ('test', 2), ('of', 2), ('hey', 1), ('is', 1), ('python', 1), ('dict', 1), ('should', 1), ('show', 1)]\n"
     ]
    }
   ],
   "source": [
    "print(word_counts.most_common(10))"
   ]
  },
  {
   "cell_type": "code",
   "execution_count": 39,
   "id": "42cea249",
   "metadata": {},
   "outputs": [
    {
     "name": "stdout",
     "output_type": "stream",
     "text": [
      "this 2\n",
      "a 2\n",
      "test 2\n",
      "of 2\n",
      "hey 1\n",
      "is 1\n",
      "python 1\n",
      "dict 1\n",
      "should 1\n",
      "show 1\n"
     ]
    }
   ],
   "source": [
    "for word, count in word_counts.most_common(10):\n",
    "    print(word, count)"
   ]
  },
  {
   "cell_type": "code",
   "execution_count": 40,
   "id": "de1d6aa9",
   "metadata": {},
   "outputs": [],
   "source": [
    "# {\"\": , \"\": } DICT\n",
    "# [] LIST\n",
    "# () TUPLE\n",
    "# {2, 3} SET, no duplications\n",
    "\n",
    "# 'in' is very fast on sets and dicts\n",
    "\n",
    "def remove_duplicates_in_list(words):\n",
    "    return list(set(words))"
   ]
  },
  {
   "cell_type": "code",
   "execution_count": 41,
   "id": "ccb27308",
   "metadata": {},
   "outputs": [
    {
     "name": "stdout",
     "output_type": "stream",
     "text": [
      "<class 'list'>\n"
     ]
    }
   ],
   "source": [
    "print(type(document))"
   ]
  },
  {
   "cell_type": "code",
   "execution_count": 42,
   "id": "d9c9cf2d",
   "metadata": {},
   "outputs": [
    {
     "name": "stdout",
     "output_type": "stream",
     "text": [
      "['should', 'test', 'python', 'hey', 'works', 'the', 'counts', 'us', 'a', 'show', 'is', 'words', 'this', 'dict', 'if', 'of']\n"
     ]
    }
   ],
   "source": [
    "document_no_duplicates = remove_duplicates_in_list(document)\n",
    "print(document_no_duplicates)"
   ]
  },
  {
   "cell_type": "code",
   "execution_count": 43,
   "id": "4b17309a",
   "metadata": {},
   "outputs": [
    {
     "name": "stdout",
     "output_type": "stream",
     "text": [
      "<class 'list'>\n"
     ]
    }
   ],
   "source": [
    "print(type(document_no_duplicates))"
   ]
  },
  {
   "cell_type": "code",
   "execution_count": 44,
   "id": "6046df18",
   "metadata": {},
   "outputs": [
    {
     "name": "stdout",
     "output_type": "stream",
     "text": [
      "[('this', 2), ('a', 2), ('test', 2), ('of', 2), ('hey', 1), ('is', 1), ('python', 1), ('dict', 1), ('should', 1), ('show', 1)]\n"
     ]
    }
   ],
   "source": [
    "x = sorted(word_counts.most_common(10), key=lambda word_and_count: word_and_count[1], reverse=True)\n",
    "print(x)"
   ]
  },
  {
   "cell_type": "code",
   "execution_count": 45,
   "id": "7a16a8ed",
   "metadata": {},
   "outputs": [
    {
     "name": "stdout",
     "output_type": "stream",
     "text": [
      "[2, 2, 2, 2, 1, 1, 1, 1, 1, 1, 1, 1, 1, 1, 1, 1]\n"
     ]
    }
   ],
   "source": [
    "x2 = sorted(word_counts.values(), reverse=True)\n",
    "print(x2)"
   ]
  },
  {
   "cell_type": "code",
   "execution_count": 46,
   "id": "d38e3d1f",
   "metadata": {},
   "outputs": [],
   "source": [
    "class CountClicker:\n",
    "    \"\"\"Class with a docstring\"\"\"\n",
    "    def __init__(self, count=0):\n",
    "        self.count = count\n",
    "        \n",
    "    def __repr__(self):\n",
    "        return f\"CountClicker(count={self.count})\"\n",
    "    \n",
    "    def click(self, num_times=1):\n",
    "        \"\"\"Click the clicker a number of times\"\"\"\n",
    "        self.count += num_times\n",
    "        \n",
    "    def read(self):\n",
    "        return self.count\n",
    "    \n",
    "    def reset(self):\n",
    "        self.count = 0"
   ]
  },
  {
   "cell_type": "code",
   "execution_count": 47,
   "id": "c7c9d42d",
   "metadata": {},
   "outputs": [
    {
     "name": "stdout",
     "output_type": "stream",
     "text": [
      "CountClicker(count=0)\n"
     ]
    }
   ],
   "source": [
    "clicker1 = CountClicker()\n",
    "clicker2 = CountClicker(100)\n",
    "clicker3 = CountClicker(count=100)\n",
    "\n",
    "print(clicker1.__repr__())"
   ]
  },
  {
   "cell_type": "code",
   "execution_count": 48,
   "id": "983dbedf",
   "metadata": {},
   "outputs": [],
   "source": [
    "clicker = CountClicker()\n",
    "assert clicker.read() == 0, f\"Clicker.read supposed to be 0, got {clicker.read()}\"\n",
    "\n",
    "clicker.click()\n",
    "clicker.click()\n",
    "assert clicker.read() == 2, f\"Clicker.read supposed to be 2, got {clicker.read()}\"\n",
    "\n",
    "clicker.reset()\n",
    "assert clicker.read() == 0, f\"Clicker.read supposed to be 0 after reset, got {clicker.read()}\""
   ]
  },
  {
   "cell_type": "code",
   "execution_count": 49,
   "id": "c4ec87e0",
   "metadata": {},
   "outputs": [
    {
     "name": "stdout",
     "output_type": "stream",
     "text": [
      "['Alice', 'Bob', 'Charlie', 'Debbie']\n"
     ]
    }
   ],
   "source": [
    "names = [\"Alice\", \"Bob\", \"Charlie\", \"Debbie\"]\n",
    "print(names)"
   ]
  },
  {
   "cell_type": "code",
   "execution_count": 50,
   "id": "446d2e02",
   "metadata": {},
   "outputs": [
    {
     "name": "stdout",
     "output_type": "stream",
     "text": [
      "<enumerate object at 0x000002179FD242C0>\n"
     ]
    }
   ],
   "source": [
    "print(enumerate(names))"
   ]
  },
  {
   "cell_type": "code",
   "execution_count": 51,
   "id": "de4d5cd7",
   "metadata": {},
   "outputs": [
    {
     "name": "stdout",
     "output_type": "stream",
     "text": [
      "name 0 is Alice\n",
      "name 1 is Bob\n",
      "name 2 is Charlie\n",
      "name 3 is Debbie\n"
     ]
    }
   ],
   "source": [
    "for i, name in enumerate(names):\n",
    "    print(f\"name {i} is {name}\")"
   ]
  },
  {
   "cell_type": "code",
   "execution_count": 52,
   "id": "d0c0df3e",
   "metadata": {},
   "outputs": [
    {
     "name": "stdout",
     "output_type": "stream",
     "text": [
      "{'Debbie', 'Alice', 'Bob', 'Charlie'}\n"
     ]
    }
   ],
   "source": [
    "names = {\"Alice\", \"Bob\", \"Charlie\", \"Debbie\"}\n",
    "print(names)"
   ]
  },
  {
   "cell_type": "code",
   "execution_count": 53,
   "id": "46da5a97",
   "metadata": {},
   "outputs": [
    {
     "name": "stdout",
     "output_type": "stream",
     "text": [
      "<enumerate object at 0x000002179FD3AF40>\n"
     ]
    }
   ],
   "source": [
    "print(enumerate(names))"
   ]
  },
  {
   "cell_type": "code",
   "execution_count": 54,
   "id": "31087aea",
   "metadata": {},
   "outputs": [
    {
     "name": "stdout",
     "output_type": "stream",
     "text": [
      "name 0 is Debbie\n",
      "name 1 is Alice\n",
      "name 2 is Bob\n",
      "name 3 is Charlie\n"
     ]
    }
   ],
   "source": [
    "for i, name in enumerate(names):\n",
    "    print(f\"name {i} is {name}\")"
   ]
  },
  {
   "cell_type": "code",
   "execution_count": 55,
   "id": "332cdc7f",
   "metadata": {},
   "outputs": [
    {
     "name": "stdout",
     "output_type": "stream",
     "text": [
      "dict_keys(['name', 'age'])\n",
      "('name', ['Alice', 'Bob', 'Charlie', 'Debbie'])\n",
      "('age', [29, 35, 21, 49])\n"
     ]
    }
   ],
   "source": [
    "names = {\"name\": [\"Alice\", \"Bob\", \"Charlie\", \"Debbie\"], \"age\": [29, 35, 21, 49]}\n",
    "print(names.keys())\n",
    "for item in names.items():\n",
    "    print(item)"
   ]
  },
  {
   "cell_type": "code",
   "execution_count": 56,
   "id": "188faa0e",
   "metadata": {},
   "outputs": [
    {
     "name": "stdout",
     "output_type": "stream",
     "text": [
      "0\n",
      "2\n",
      "4\n",
      "6\n",
      "8\n",
      "10\n",
      "12\n",
      "14\n",
      "16\n",
      "18\n"
     ]
    }
   ],
   "source": [
    "evens_below_20 = (i for i in range(20) if i%2 == 0)\n",
    "for j in evens_below_20:\n",
    "    print(j)"
   ]
  },
  {
   "cell_type": "code",
   "execution_count": 57,
   "id": "d6f0438f",
   "metadata": {},
   "outputs": [],
   "source": [
    "def natural_numbers():\n",
    "    \"\"\"returns 1, 2, 3...\"\"\"\n",
    "    n = 1\n",
    "    while True:\n",
    "        yield n\n",
    "        n += 1\n",
    "        \n",
    "data = natural_numbers()\n",
    "evens = (x for x in data if x%2 == 0)\n",
    "even_squares = (x ** 2 for x in evens)\n",
    "even_squares_ending_in_6 = (x for x in even_squares if x % 10 == 6)"
   ]
  },
  {
   "cell_type": "code",
   "execution_count": null,
   "id": "da2c0ac4",
   "metadata": {},
   "outputs": [],
   "source": []
  },
  {
   "cell_type": "code",
   "execution_count": null,
   "id": "52cc4d03",
   "metadata": {},
   "outputs": [],
   "source": []
  },
  {
   "cell_type": "code",
   "execution_count": null,
   "id": "9b71360e",
   "metadata": {},
   "outputs": [],
   "source": []
  },
  {
   "cell_type": "markdown",
   "id": "0e0ab501",
   "metadata": {},
   "source": [
    "## Randomness"
   ]
  },
  {
   "cell_type": "code",
   "execution_count": 58,
   "id": "443fe6e9",
   "metadata": {},
   "outputs": [],
   "source": [
    "# random.random()\n",
    "# random.seed()\n",
    "# random.randrange()\n",
    "# random.shuffle()\n",
    "# random.choice()"
   ]
  },
  {
   "cell_type": "code",
   "execution_count": 59,
   "id": "08e6b224",
   "metadata": {},
   "outputs": [],
   "source": [
    "import random\n",
    "random.seed(10) # ensures consistent results"
   ]
  },
  {
   "cell_type": "code",
   "execution_count": 60,
   "id": "200ff97b",
   "metadata": {},
   "outputs": [
    {
     "name": "stdout",
     "output_type": "stream",
     "text": [
      "[0.5714025946899135, 0.4288890546751146, 0.5780913011344704, 0.20609823213950174]\n"
     ]
    }
   ],
   "source": [
    "random.seed(10) # ensures consistent results\n",
    "four_uniform_randoms = [random.random() for _ in range(4)]\n",
    "print(four_uniform_randoms)"
   ]
  },
  {
   "cell_type": "code",
   "execution_count": 61,
   "id": "3a43a5e8",
   "metadata": {},
   "outputs": [
    {
     "name": "stdout",
     "output_type": "stream",
     "text": [
      "0.5714025946899135\n",
      "0.4288890546751146\n",
      "0.5780913011344704\n",
      "0.20609823213950174\n"
     ]
    }
   ],
   "source": [
    "random.seed(10) # ensures consistent results\n",
    "four_uniform_randoms = (random.random() for _ in range(4))\n",
    "for _ in four_uniform_randoms:\n",
    "    print(_)\n"
   ]
  },
  {
   "cell_type": "code",
   "execution_count": 62,
   "id": "0cd26dea",
   "metadata": {},
   "outputs": [
    {
     "name": "stdout",
     "output_type": "stream",
     "text": [
      "7\n"
     ]
    }
   ],
   "source": [
    "print(random.randrange(10))"
   ]
  },
  {
   "cell_type": "code",
   "execution_count": 63,
   "id": "f6312d9a",
   "metadata": {},
   "outputs": [
    {
     "name": "stdout",
     "output_type": "stream",
     "text": [
      "50pct theoretical, 0.0pct real\n",
      "50pct theoretical, 50.0pct real\n",
      "50pct theoretical, 66.66666666666666pct real\n",
      "50pct theoretical, 50.0pct real\n",
      "50pct theoretical, 40.0pct real\n",
      "50pct theoretical, 50.0pct real\n",
      "50pct theoretical, 57.14285714285714pct real\n",
      "50pct theoretical, 50.0pct real\n",
      "50pct theoretical, 55.55555555555556pct real\n",
      "50pct theoretical, 50.0pct real\n",
      "50pct theoretical, 54.54545454545454pct real\n",
      "50pct theoretical, 50.0pct real\n",
      "50pct theoretical, 46.15384615384615pct real\n",
      "50pct theoretical, 42.857142857142854pct real\n",
      "50pct theoretical, 40.0pct real\n",
      "50pct theoretical, 37.5pct real\n",
      "50pct theoretical, 35.294117647058826pct real\n",
      "50pct theoretical, 38.88888888888889pct real\n",
      "50pct theoretical, 36.84210526315789pct real\n",
      "50pct theoretical, 35.0pct real\n",
      "50pct theoretical, 38.095238095238095pct real\n",
      "50pct theoretical, 36.36363636363637pct real\n",
      "50pct theoretical, 39.130434782608695pct real\n",
      "50pct theoretical, 37.5pct real\n",
      "50pct theoretical, 36.0pct real\n",
      "50pct theoretical, 38.46153846153847pct real\n",
      "50pct theoretical, 40.74074074074074pct real\n",
      "50pct theoretical, 42.857142857142854pct real\n",
      "50pct theoretical, 44.827586206896555pct real\n",
      "50pct theoretical, 46.666666666666664pct real\n",
      "50pct theoretical, 45.16129032258064pct real\n",
      "50pct theoretical, 43.75pct real\n",
      "50pct theoretical, 45.45454545454545pct real\n",
      "50pct theoretical, 44.11764705882353pct real\n",
      "50pct theoretical, 42.857142857142854pct real\n",
      "50pct theoretical, 41.66666666666667pct real\n",
      "50pct theoretical, 40.54054054054054pct real\n",
      "50pct theoretical, 42.10526315789473pct real\n",
      "50pct theoretical, 41.02564102564102pct real\n",
      "50pct theoretical, 42.5pct real\n",
      "50pct theoretical, 43.90243902439025pct real\n",
      "50pct theoretical, 42.857142857142854pct real\n",
      "50pct theoretical, 44.18604651162791pct real\n",
      "50pct theoretical, 45.45454545454545pct real\n",
      "50pct theoretical, 46.666666666666664pct real\n",
      "50pct theoretical, 45.65217391304348pct real\n",
      "50pct theoretical, 44.680851063829785pct real\n",
      "50pct theoretical, 45.83333333333333pct real\n",
      "50pct theoretical, 46.93877551020408pct real\n",
      "50pct theoretical, 48.0pct real\n",
      "50pct theoretical, 47.05882352941176pct real\n",
      "50pct theoretical, 46.15384615384615pct real\n",
      "50pct theoretical, 47.16981132075472pct real\n",
      "50pct theoretical, 48.148148148148145pct real\n",
      "50pct theoretical, 49.09090909090909pct real\n",
      "50pct theoretical, 48.214285714285715pct real\n",
      "50pct theoretical, 49.122807017543856pct real\n",
      "50pct theoretical, 50.0pct real\n",
      "50pct theoretical, 49.152542372881356pct real\n",
      "50pct theoretical, 48.333333333333336pct real\n",
      "50pct theoretical, 47.540983606557376pct real\n",
      "50pct theoretical, 46.774193548387096pct real\n",
      "50pct theoretical, 47.61904761904761pct real\n",
      "50pct theoretical, 46.875pct real\n",
      "50pct theoretical, 47.69230769230769pct real\n",
      "50pct theoretical, 48.484848484848484pct real\n",
      "50pct theoretical, 49.25373134328358pct real\n",
      "50pct theoretical, 48.529411764705884pct real\n",
      "50pct theoretical, 47.82608695652174pct real\n",
      "50pct theoretical, 47.14285714285714pct real\n",
      "50pct theoretical, 47.88732394366197pct real\n",
      "50pct theoretical, 48.61111111111111pct real\n",
      "50pct theoretical, 49.31506849315068pct real\n",
      "50pct theoretical, 48.64864864864865pct real\n",
      "50pct theoretical, 48.0pct real\n",
      "50pct theoretical, 47.368421052631575pct real\n",
      "50pct theoretical, 46.75324675324675pct real\n",
      "50pct theoretical, 47.43589743589743pct real\n",
      "50pct theoretical, 48.10126582278481pct real\n",
      "50pct theoretical, 48.75pct real\n",
      "50pct theoretical, 48.148148148148145pct real\n",
      "50pct theoretical, 47.5609756097561pct real\n",
      "50pct theoretical, 48.19277108433735pct real\n",
      "50pct theoretical, 48.80952380952381pct real\n",
      "50pct theoretical, 48.23529411764706pct real\n",
      "50pct theoretical, 47.674418604651166pct real\n",
      "50pct theoretical, 47.12643678160919pct real\n",
      "50pct theoretical, 47.72727272727273pct real\n",
      "50pct theoretical, 47.19101123595505pct real\n",
      "50pct theoretical, 46.666666666666664pct real\n",
      "50pct theoretical, 47.25274725274725pct real\n",
      "50pct theoretical, 46.73913043478261pct real\n",
      "50pct theoretical, 46.236559139784944pct real\n",
      "50pct theoretical, 45.744680851063826pct real\n",
      "50pct theoretical, 46.31578947368421pct real\n",
      "50pct theoretical, 46.875pct real\n",
      "50pct theoretical, 46.391752577319586pct real\n",
      "50pct theoretical, 45.91836734693878pct real\n",
      "50pct theoretical, 45.45454545454545pct real\n",
      "50pct theoretical, 46.0pct real\n"
     ]
    }
   ],
   "source": [
    "count = 0\n",
    "three_count = 0\n",
    "for x in range(100):\n",
    "    y = random.randrange(3,5)\n",
    "    count += 1\n",
    "    if y == 3:\n",
    "        three_count += 1\n",
    "    print(f\"50pct theoretical, {three_count/count*100}pct real\")\n",
    "    \n"
   ]
  },
  {
   "cell_type": "code",
   "execution_count": 64,
   "id": "1c3a838c",
   "metadata": {},
   "outputs": [
    {
     "name": "stdout",
     "output_type": "stream",
     "text": [
      "[1, 3, 2]\n"
     ]
    }
   ],
   "source": [
    "cups = [1, 2, 3]\n",
    "random.shuffle(cups)\n",
    "print(cups)"
   ]
  },
  {
   "cell_type": "code",
   "execution_count": 65,
   "id": "768f44c2",
   "metadata": {},
   "outputs": [
    {
     "name": "stdout",
     "output_type": "stream",
     "text": [
      "[1, 3, 2]\n",
      "[2, 1, 3]\n",
      "[2, 1, 3]\n",
      "[3, 1, 2]\n",
      "[1, 2, 3]\n",
      "[3, 1, 2]\n",
      "[2, 1, 3]\n",
      "[1, 3, 2]\n",
      "[2, 3, 1]\n",
      "[1, 2, 3]\n",
      "[1, 3, 2]\n",
      "[1, 3, 2]\n",
      "[1, 2, 3]\n",
      "[1, 2, 3]\n",
      "[1, 3, 2]\n",
      "Now, which position is ball 1?: 3\n",
      "Incorrect! balls were [3, 1, 2]\n"
     ]
    }
   ],
   "source": [
    "for x in range(15):\n",
    "    random.shuffle(cups)\n",
    "    print(cups)\n",
    "    \n",
    "random.shuffle(cups)\n",
    "y = input(\"Now, which position is ball 1?: \")\n",
    "if(cups[int(y)-1] == 1):\n",
    "    print(f\"Correct! balls were {cups}\")\n",
    "else:\n",
    "    print(f\"Incorrect! balls were {cups}\")"
   ]
  },
  {
   "cell_type": "code",
   "execution_count": 66,
   "id": "c3be45c7",
   "metadata": {},
   "outputs": [
    {
     "name": "stdout",
     "output_type": "stream",
     "text": [
      "My best friend is Borat\n"
     ]
    }
   ],
   "source": [
    "my_best_friend = random.choice(['Bob', 'Alice', 'Borat'])\n",
    "print(f\"My best friend is {my_best_friend}\")"
   ]
  },
  {
   "cell_type": "code",
   "execution_count": 67,
   "id": "cda9c89c",
   "metadata": {},
   "outputs": [],
   "source": [
    "import re\n",
    "\n",
    "re_examples = [\n",
    "    not re.match(\"a\", \"cat\"),\n",
    "    re.search(\"a\", \"cat\"),\n",
    "    not re.search(\"c\", \"dog\"),\n",
    "    3 == len(re.split(\"[ab]\", \"carbs\")),\n",
    "    \"R-D-\" == re.sub(\"[0-9]\", \"-\", \"R2D2\")\n",
    "]\n",
    "\n",
    "assert all(re_examples), \"All should be True\""
   ]
  },
  {
   "cell_type": "code",
   "execution_count": 68,
   "id": "bb122f2d",
   "metadata": {},
   "outputs": [
    {
     "name": "stdout",
     "output_type": "stream",
     "text": [
      "('a', 1)\n",
      "('b', 2)\n",
      "('c', 3)\n"
     ]
    }
   ],
   "source": [
    "list1 = ['a', 'b', 'c']\n",
    "list2 = [1, 2, 3]\n",
    "for pair in zip(list1, list2):\n",
    "    print(pair)"
   ]
  },
  {
   "cell_type": "code",
   "execution_count": 69,
   "id": "e97e5b0d",
   "metadata": {},
   "outputs": [
    {
     "name": "stdout",
     "output_type": "stream",
     "text": [
      "Letters are ('a', 'b', 'c'), Numbers are (1, 2, 3)\n"
     ]
    }
   ],
   "source": [
    "pairs = [('a', 1), ('b', 2), ('c', 3)]\n",
    "letters, numbers = zip(*pairs)\n",
    "print(f\"Letters are {letters}, Numbers are {numbers}\")"
   ]
  },
  {
   "cell_type": "code",
   "execution_count": 70,
   "id": "39658cd2",
   "metadata": {},
   "outputs": [],
   "source": [
    "def doubler(f):\n",
    "    def g(x):\n",
    "        return 2 * f(x)\n",
    "    \n",
    "    return g\n",
    "\n",
    "def f1(x):\n",
    "    return x + 1\n",
    "\n",
    "g = doubler(f1)\n",
    "assert g(3) == 8, \"(3 + 1) * 2 should equal 8\"\n",
    "assert g(-1) == 0, \"(-1 + 1) * 2 should equal 0\"\n"
   ]
  },
  {
   "cell_type": "code",
   "execution_count": 71,
   "id": "f6d4aa52",
   "metadata": {},
   "outputs": [
    {
     "name": "stdout",
     "output_type": "stream",
     "text": [
      "unnamed args: (1, 2, 3, 4, 5)\n",
      "keyword args: {}\n"
     ]
    }
   ],
   "source": [
    "def magic(*args, **kwargs):\n",
    "    print(\"unnamed args:\", args)\n",
    "    print(\"keyword args:\", kwargs)\n",
    "    \n",
    "magic(1, 2, 3, 4, 5)"
   ]
  },
  {
   "cell_type": "code",
   "execution_count": 72,
   "id": "749ec410",
   "metadata": {},
   "outputs": [
    {
     "name": "stdout",
     "output_type": "stream",
     "text": [
      "unnamed args: ('stringy',)\n",
      "keyword args: {'str': 'five', 'foo': 'bar'}\n"
     ]
    }
   ],
   "source": [
    "magic(\"stringy\", str=\"five\", foo=\"bar\")"
   ]
  },
  {
   "cell_type": "code",
   "execution_count": 73,
   "id": "5c880745",
   "metadata": {},
   "outputs": [],
   "source": [
    "def other_way_magic(x, y, z):\n",
    "    return x + y + z\n",
    "\n",
    "x_y_list = [1, 2]\n",
    "z_dict = {\"z\": 3}\n",
    "assert other_way_magic(*x_y_list, **z_dict) == 6, \"1+2+3 = 6\""
   ]
  },
  {
   "cell_type": "code",
   "execution_count": 74,
   "id": "bcbc376c",
   "metadata": {},
   "outputs": [
    {
     "name": "stdout",
     "output_type": "stream",
     "text": [
      "10.3854545\n"
     ]
    }
   ],
   "source": [
    "from typing import List\n",
    "\n",
    "def total(xs: List[float]) -> float:\n",
    "    return sum(xs)\n",
    "\n",
    "print(total([3.5, 4.54, 2.3454545]))"
   ]
  },
  {
   "cell_type": "code",
   "execution_count": 75,
   "id": "29b7cba7",
   "metadata": {},
   "outputs": [],
   "source": [
    "def no_return(num: float) -> None:\n",
    "    num = num * 2\n",
    "    print(num)"
   ]
  },
  {
   "cell_type": "code",
   "execution_count": 76,
   "id": "78d274c0",
   "metadata": {},
   "outputs": [
    {
     "name": "stdout",
     "output_type": "stream",
     "text": [
      "2\n"
     ]
    }
   ],
   "source": [
    "foobar = 2\n",
    "print(foobar)"
   ]
  },
  {
   "cell_type": "code",
   "execution_count": 77,
   "id": "d15ee510",
   "metadata": {},
   "outputs": [
    {
     "name": "stdout",
     "output_type": "stream",
     "text": [
      "4\n"
     ]
    }
   ],
   "source": [
    "no_return(foobar)"
   ]
  },
  {
   "cell_type": "markdown",
   "id": "a08a0dc0",
   "metadata": {},
   "source": [
    "## Ch 4 Linear Algebra : Vectors"
   ]
  },
  {
   "cell_type": "code",
   "execution_count": 78,
   "id": "4a2b1fc2",
   "metadata": {},
   "outputs": [],
   "source": [
    "from typing import List\n",
    "Vector = List[float]\n",
    "\n",
    "def vector_add(v: Vector, w: Vector) -> Vector:\n",
    "    \"\"\"Adds vectors\"\"\"\n",
    "    assert len(v) == len(w), \"Vectors should be the same length\"\n",
    "    return [v_i + w_i for v_i, w_i in zip(v, w)]\n",
    "\n",
    "assert vector_add([1, 2, 3], [4, 5, 6]) == [5, 7, 9]"
   ]
  },
  {
   "cell_type": "code",
   "execution_count": 79,
   "id": "a1dca559",
   "metadata": {},
   "outputs": [
    {
     "name": "stdout",
     "output_type": "stream",
     "text": [
      "c is 1, 2\n",
      "c is 1, 4\n",
      "c is 2, 3\n"
     ]
    }
   ],
   "source": [
    "a = [1, 1, 2]\n",
    "b = [2, 4, 3]\n",
    "assert len(a) == len(b), \"Vectors should be the same length\"\n",
    "c = zip(a, b)\n",
    "for i, j in c:\n",
    "    print(f\"c is {i}, {j}\")"
   ]
  },
  {
   "cell_type": "code",
   "execution_count": 80,
   "id": "0df16815",
   "metadata": {},
   "outputs": [],
   "source": [
    "def scalar_multiply(c: float, v: Vector) -> Vector:\n",
    "    \"\"\"Multiplies elements by c\"\"\"\n",
    "    return [c * v_i for v_i in v]\n",
    "\n",
    "assert scalar_multiply(2, [1, 2, 3]) == [2, 4, 6], \"Doesn't work!\"\n",
    "    \n",
    "    "
   ]
  },
  {
   "cell_type": "code",
   "execution_count": 81,
   "id": "9eb5bde1",
   "metadata": {},
   "outputs": [],
   "source": [
    "def dot(v: Vector, w: Vector) -> float:\n",
    "    \"\"\"Computes dot product\"\"\"\n",
    "    assert len(v) == len(w), \"Vectors should be same length\"\n",
    "    return sum(vi * wi for vi, wi in zip(v, w))\n",
    "\n",
    "assert dot([1, 2, 3], [2, 3, 4]) == 20, \"Dot product is not correct\""
   ]
  },
  {
   "cell_type": "code",
   "execution_count": 82,
   "id": "2c210d5f",
   "metadata": {},
   "outputs": [],
   "source": [
    "Matrix = List[List[float]]"
   ]
  },
  {
   "cell_type": "code",
   "execution_count": 83,
   "id": "f4f8be09",
   "metadata": {},
   "outputs": [],
   "source": [
    "from typing import Tuple\n",
    "\n",
    "def shape_matrix(A: Matrix) -> Tuple[int, int]:\n",
    "    \"\"\"Returns num rows and num cols\"\"\"\n",
    "    num_rows = len(A)\n",
    "    num_cols = len(A[0])\n",
    "    return num_rows, num_cols\n",
    "\n",
    "assert shape_matrix([[1, 2, 3], [4, 5, 6]]) == (2, 3)"
   ]
  },
  {
   "cell_type": "code",
   "execution_count": 84,
   "id": "6cb27915",
   "metadata": {},
   "outputs": [],
   "source": [
    "def get_row(A: Matrix, i: int) -> Vector:\n",
    "    \"\"\"returns i-th row of Matrix\"\"\"\n",
    "    return A[i]\n",
    "\n",
    "def get_col(A: Matrix, j: int) -> Vector:\n",
    "    \"\"\"returns j-th column of Matrix\"\"\"\n",
    "    return [A_i[j] for A_i in A]\n",
    "\n"
   ]
  },
  {
   "cell_type": "code",
   "execution_count": 85,
   "id": "45f107b8",
   "metadata": {},
   "outputs": [],
   "source": [
    "from typing import Callable\n",
    "\n",
    "def make_matrix(num_rows: int, num_cols: int, entry_fn: Callable[[int, int], float]) -> Matrix:\n",
    "    \"\"\"\n",
    "    Returns a num_rows x num_cols matrix\n",
    "    whose (i,j) entry is entry_fn(i,j)\n",
    "    \"\"\"\n",
    "    return [[ entry_fn(i,j)              # given i, create a list\n",
    "            for j in range(num_cols)]    #  [entry_fn(i,0), ...]\n",
    "           for i in range(num_rows)]     # create one list for each i\n",
    "\n",
    "def identity_matrix(n: int) -> Matrix:\n",
    "    \"\"\"Returns n x n identity matrix\"\"\"\n",
    "    return make_matrix(n, n, lambda i, j: 1 if i == j else 0)\n",
    "\n",
    "assert identity_matrix(5) == [[1, 0, 0, 0, 0],\n",
    "                             [0, 1, 0, 0, 0],\n",
    "                             [0, 0, 1, 0, 0],\n",
    "                             [0, 0, 0, 1, 0],\n",
    "                             [0, 0, 0, 0, 1]]"
   ]
  },
  {
   "cell_type": "markdown",
   "id": "c64487fa",
   "metadata": {},
   "source": [
    "## Ch 5 Statistics"
   ]
  },
  {
   "cell_type": "code",
   "execution_count": null,
   "id": "7a8164aa",
   "metadata": {},
   "outputs": [],
   "source": []
  },
  {
   "cell_type": "code",
   "execution_count": null,
   "id": "6abdce7f",
   "metadata": {},
   "outputs": [],
   "source": []
  },
  {
   "cell_type": "code",
   "execution_count": 89,
   "id": "b41d622b",
   "metadata": {},
   "outputs": [],
   "source": [
    "num_friends = [100, 49, 41, 40, 25, 36, 73, 74, 222, 11, 65]"
   ]
  },
  {
   "cell_type": "code",
   "execution_count": 90,
   "id": "20f440b2",
   "metadata": {},
   "outputs": [],
   "source": [
    "from scratch.linear_algebra import dot"
   ]
  },
  {
   "cell_type": "code",
   "execution_count": 91,
   "id": "f0679e19",
   "metadata": {
    "scrolled": true
   },
   "outputs": [
    {
     "ename": "NameError",
     "evalue": "name 'daily_minutes' is not defined",
     "output_type": "error",
     "traceback": [
      "\u001b[1;31m---------------------------------------------------------------------------\u001b[0m",
      "\u001b[1;31mNameError\u001b[0m                                 Traceback (most recent call last)",
      "Cell \u001b[1;32mIn[91], line 5\u001b[0m\n\u001b[0;32m      2\u001b[0m     \u001b[38;5;28;01massert\u001b[39;00m \u001b[38;5;28mlen\u001b[39m(xs) \u001b[38;5;241m==\u001b[39m \u001b[38;5;28mlen\u001b[39m(ys), \u001b[38;5;124m\"\u001b[39m\u001b[38;5;124mxs and ys lists should have equal lengths\u001b[39m\u001b[38;5;124m\"\u001b[39m\n\u001b[0;32m      3\u001b[0m     \u001b[38;5;28;01mreturn\u001b[39;00m dot(de_mean(xs), de_mean(ys)) \u001b[38;5;241m/\u001b[39m (\u001b[38;5;28mlen\u001b[39m(xs) \u001b[38;5;241m-\u001b[39m \u001b[38;5;241m1\u001b[39m)\n\u001b[1;32m----> 5\u001b[0m \u001b[38;5;28;01massert\u001b[39;00m \u001b[38;5;241m22.42\u001b[39m \u001b[38;5;241m<\u001b[39m covariance(num_friends, \u001b[43mdaily_minutes\u001b[49m) \u001b[38;5;241m<\u001b[39m \u001b[38;5;241m22.43\u001b[39m\n\u001b[0;32m      6\u001b[0m \u001b[38;5;28;01massert\u001b[39;00m \u001b[38;5;241m22.42\u001b[39m \u001b[38;5;241m/\u001b[39m \u001b[38;5;241m60\u001b[39m \u001b[38;5;241m<\u001b[39m covariance(num_friends, daily_hours) \u001b[38;5;241m<\u001b[39m \u001b[38;5;241m22.43\u001b[39m \u001b[38;5;241m/\u001b[39m \u001b[38;5;241m60\u001b[39m\n",
      "\u001b[1;31mNameError\u001b[0m: name 'daily_minutes' is not defined"
     ]
    }
   ],
   "source": [
    "def covariance(xs: List[float], ys: List[float]) -> float:\n",
    "    assert len(xs) == len(ys), \"xs and ys lists should have equal lengths\"\n",
    "    return dot(de_mean(xs), de_mean(ys)) / (len(xs) - 1)\n",
    "\n",
    "assert 22.42 < covariance(num_friends, daily_minutes) < 22.43\n",
    "assert 22.42 / 60 < covariance(num_friends, daily_hours) < 22.43 / 60"
   ]
  },
  {
   "cell_type": "markdown",
   "id": "c80a9deb",
   "metadata": {},
   "source": [
    "## Ch 6 Probability"
   ]
  },
  {
   "cell_type": "code",
   "execution_count": 94,
   "id": "294be9a7",
   "metadata": {},
   "outputs": [
    {
     "name": "stdout",
     "output_type": "stream",
     "text": [
      "P(both | older): 0.5007089325501317\n",
      "P(both | either): 0.3311897106109325\n"
     ]
    }
   ],
   "source": [
    "import enum, random\n",
    "\n",
    "class Kid(enum.Enum):\n",
    "    BOY = 0\n",
    "    GIRL = 1\n",
    "    \n",
    "def random_kid() -> Kid:\n",
    "    return random.choice([Kid.BOY, Kid.GIRL])\n",
    "\n",
    "both_girls = 0\n",
    "older_girl = 0\n",
    "either_girl = 0\n",
    "\n",
    "random.seed(0)\n",
    "\n",
    "for _ in range(10000):\n",
    "    younger = random_kid()\n",
    "    older = random_kid()\n",
    "    \n",
    "    if older == Kid.GIRL:\n",
    "        older_girl += 1\n",
    "    \n",
    "    if older == Kid.GIRL and younger == Kid.GIRL:\n",
    "        both_girls += 1\n",
    "    \n",
    "    if older == Kid.GIRL or younger == Kid.GIRL:\n",
    "        either_girl += 1\n",
    "    \n",
    "print(f\"P(both | older): {both_girls/older_girl}\")\n",
    "print(f\"P(both | either): {both_girls/either_girl}\")\n",
    "      "
   ]
  },
  {
   "cell_type": "code",
   "execution_count": 100,
   "id": "29aa0ae2",
   "metadata": {},
   "outputs": [],
   "source": [
    "import math\n",
    "SQRT_2PI = math.sqrt(2*math.pi)\n",
    "\n",
    "def normal_cdf(x: float, mu: float = 0, sigma: float = 1) -> float:\n",
    "    \"\"\"cumulative distribution function, starts at 0 ends at 1, mu=mean, sigma=st.dev.\"\"\"\n",
    "    return (1 + math.erf((x - mu) / math.sqrt(2) / sigma)) / 2\n",
    "\n",
    "def normal_pdf(x: float, mu: float = 0, sigma: float = 1) -> float:\n",
    "    \"\"\"probability distribution function (bell curve), mu=mean, sigma=st.dev.\"\"\"\n",
    "    return math.exp(-1*((x-mu)**2) / 2 / sigma / sigma ) / (SQRT_2PI * sigma) \n",
    "    "
   ]
  },
  {
   "cell_type": "code",
   "execution_count": 101,
   "id": "87454980",
   "metadata": {},
   "outputs": [
    {
     "data": {
      "image/png": "[encoded data removed]",
      "text/plain": [
       "<Figure size 640x480 with 1 Axes>"
      ]
     },
     "metadata": {},
     "output_type": "display_data"
    }
   ],
   "source": [
    "import matplotlib.pyplot as plt\n",
    "\n",
    "xrange = [x/10 for x in range(-100,100)]\n",
    "plt.plot(xrange, [normal_pdf(x, sigma=1) for x in xrange], '-', label='mu=0,sigma=1')\n",
    "plt.plot(xrange, [normal_pdf(x, sigma=2) for x in xrange], '--', label='mu=0,sigma=2')\n",
    "plt.plot(xrange, [normal_pdf(x, sigma=0.5) for x in xrange], ':', label='mu=0,sigma=0.5')\n",
    "plt.plot(xrange, [normal_pdf(x, mu=-1) for x in xrange], '-.', label='mu=-1,sigma=1')\n",
    "plt.legend()\n",
    "plt.title(\"Various Normal PDFs\")\n",
    "plt.show()"
   ]
  },
  {
   "cell_type": "code",
   "execution_count": 102,
   "id": "69b9e1dd",
   "metadata": {},
   "outputs": [
    {
     "data": {
      "image/png": "[encoded data removed]",
      "text/plain": [
       "<Figure size 640x480 with 1 Axes>"
      ]
     },
     "metadata": {},
     "output_type": "display_data"
    }
   ],
   "source": [
    "xrange = [x/10 for x in range(-100,100)]\n",
    "plt.plot(xrange, [normal_cdf(x, sigma=1) for x in xrange], '-', label='mu=0, sigma=1')\n",
    "plt.plot(xrange, [normal_cdf(x, sigma=2) for x in xrange], '--', label='mu=0, sigma=2')\n",
    "plt.plot(xrange, [normal_cdf(x, sigma=0.5) for x in xrange], ':', label='mu=0, sigma=0.5')\n",
    "plt.plot(xrange, [normal_cdf(x, mu=-1) for x in xrange], '-.', label='mu=-1, sigma=1')\n",
    "plt.legend(loc=4)\n",
    "plt.title('Various Normal CDFs')\n",
    "plt.show()"
   ]
  },
  {
   "cell_type": "markdown",
   "id": "93842fdd",
   "metadata": {},
   "source": [
    "## Ch 7 Hypothesis and Inference"
   ]
  },
  {
   "cell_type": "code",
   "execution_count": 103,
   "id": "2c8c4589",
   "metadata": {},
   "outputs": [],
   "source": [
    "from typing import Tuple \n",
    "import math\n",
    "\n",
    "def normal_approximation_to_binomial(n: int, p: float) -> Tuple[float, float]:\n",
    "    \"\"\"function to provide mean mu and st.dev. sigma for a number of binomial trials with probability p\"\"\"\n",
    "    mu = p * n\n",
    "    sigma = math.sqrt(p * (1 - p) * n)\n",
    "    return (mu, sigma)"
   ]
  },
  {
   "cell_type": "code",
   "execution_count": 104,
   "id": "caaae9c9",
   "metadata": {},
   "outputs": [],
   "source": [
    "normal_probability_below = normal_cdf\n",
    "\n",
    "def normal_probability_above(x: float, mu: float = 0, sigma: float = 1) -> float:\n",
    "    \"\"\"1 - CDF, the complement to the CDF function\"\"\"\n",
    "    return 1 - normal_probability_below(x, mu, sigma)\n",
    "\n",
    "def normal_probability_between(lo: float, hi: float, mu: float = 0, sigma: float = 1) -> float:\n",
    "    \"\"\"Probability that an N(mu, sigma) is between lo and hi\"\"\"\n",
    "    return normal_cdf(hi, mu, sigma) - normal_cdf(lo, mu, sigma)\n",
    "\n",
    "def normal_probability_outside(lo: float, hi: float, mu: float = 0, sigma: float = 1) -> float:\n",
    "    \"\"\"Probability that an N(mu, sigma) is outside of lo and hi\"\"\"\n",
    "    return 1 - normal_probability_outside(lo, hi, mu, sigma)"
   ]
  },
  {
   "cell_type": "code",
   "execution_count": 105,
   "id": "e784cf62",
   "metadata": {},
   "outputs": [
    {
     "data": {
      "text/plain": [
       "<Figure size 640x480 with 0 Axes>"
      ]
     },
     "metadata": {},
     "output_type": "display_data"
    }
   ],
   "source": [
    "from scratch.probability import inverse_normal_cdf"
   ]
  },
  {
   "cell_type": "code",
   "execution_count": 109,
   "id": "1a4774a2",
   "metadata": {},
   "outputs": [],
   "source": [
    "def normal_upper_bound(probability: float, mu: float = 0, sigma: float = 1) -> float:\n",
    "    \"\"\"return z for which probability(Z<=z) = input probability\"\"\"\n",
    "    return inverse_normal_cdf(probability, mu, sigma)\n",
    "\n",
    "def normal_lower_bound(probability: float, mu: float = 0, sigma: float = 1) -> float:\n",
    "    \"\"\"return z for which probability(Z>=z) = input probability\"\"\"\n",
    "    return inverse_normal_cdf(1 - probability, mu, sigma)\n",
    "\n",
    "def normal_two_sided_bounds(probability: float, mu: float = 0, sigma: float = 1) -> Tuple[float, float]:\n",
    "    \"\"\"returns the symmetric (about the mean) bounds\n",
    "    that contain the specified probability\"\"\"\n",
    "    tail_probability = (1 - probability) / 2\n",
    "    \n",
    "    upper_bound = normal_lower_bound(tail_probability, mu, sigma)\n",
    "    \n",
    "    lower_bound = normal_upper_bound(tail_probability, mu, sigma)\n",
    "    \n",
    "    return lower_bound, upper_bound"
   ]
  },
  {
   "cell_type": "code",
   "execution_count": 110,
   "id": "f6e9baad",
   "metadata": {},
   "outputs": [],
   "source": [
    "### now we begin the experiment with our functions\n",
    "\n",
    "mu_0, sigma_0 = normal_approximation_to_binomial(1000, 0.5) #1000 coin tosses at 50% probability each"
   ]
  },
  {
   "cell_type": "markdown",
   "id": "3821fcdf",
   "metadata": {},
   "source": [
    "Willingness to accept results is often either 5% or 1%"
   ]
  },
  {
   "cell_type": "code",
   "execution_count": 111,
   "id": "eece4134",
   "metadata": {},
   "outputs": [
    {
     "name": "stdout",
     "output_type": "stream",
     "text": [
      "Lower Bound: 469.01026640487555\n",
      "Upper Bound: 530.9897335951244\n"
     ]
    }
   ],
   "source": [
    "lower_bound, upper_bound = normal_two_sided_bounds(0.95, mu_0, sigma_0)\n",
    "print(f\"Lower Bound: {lower_bound}\")\n",
    "print(f\"Upper Bound: {upper_bound}\")"
   ]
  },
  {
   "cell_type": "markdown",
   "id": "f97a9f34",
   "metadata": {},
   "source": [
    "So if H_0 is true (H_0 = coin is fair, p=0.5), then only 5% chance that X lies outside of this interval"
   ]
  },
  {
   "cell_type": "code",
   "execution_count": 112,
   "id": "51950b83",
   "metadata": {},
   "outputs": [],
   "source": [
    "# now we will see how to compute the probability, given a certain number of heads (x=1 values)\n",
    "def two_sided_p_value(x: float, mu: float = 0, sigma: float = 1) -> float:\n",
    "    \"\"\"How likely are we to see a value at least as extreme as x, given an N(mu, sigma)\"\"\"\n",
    "    if x>= mu:\n",
    "        # x is greater than the mean, so the tail is everything greater than x\n",
    "        return 2 * normal_probability_above(x, mu, sigma)\n",
    "    else:\n",
    "        # x is less than the mean, so the tail is everything less than x\n",
    "        return 2 * normal_probability_below(x, my, sigma)"
   ]
  },
  {
   "cell_type": "code",
   "execution_count": 113,
   "id": "e2fa13cd",
   "metadata": {},
   "outputs": [
    {
     "name": "stdout",
     "output_type": "stream",
     "text": [
      "0.06207721579598835\n"
     ]
    }
   ],
   "source": [
    "tmp = two_sided_p_value(529.5, mu_0, sigma_0)\n",
    "print(tmp)"
   ]
  },
  {
   "cell_type": "code",
   "execution_count": 116,
   "id": "cb5734ec",
   "metadata": {},
   "outputs": [
    {
     "name": "stdout",
     "output_type": "stream",
     "text": [
      "Extreme value count is 61\n"
     ]
    }
   ],
   "source": [
    "# let's test that fact with a simulation (page 91 of the book)\n",
    "extreme_value_count = 0\n",
    "for _ in range(1000):\n",
    "    num_heads = sum(1 if random.random() < 0.5 else 0\n",
    "                   for _ in range(1000))\n",
    "    if num_heads >= 530 or num_heads <= 470:\n",
    "        extreme_value_count += 1\n",
    "        \n",
    "print(f\"Extreme value count is {extreme_value_count}\")        \n",
    "# p-value was 0.062 -> ~62 values out of 1000 are extreme\n",
    "assert 59 < extreme_value_count < 65, f\"Extreme value count is {extreme_value_count}\""
   ]
  },
  {
   "cell_type": "code",
   "execution_count": 117,
   "id": "5ea5012d",
   "metadata": {},
   "outputs": [],
   "source": [
    "# Since p value above was greater than 0.05 (was 0.062, 62 out of 1000), we don't reject N_0 \n",
    "# if p value is less than 0.05, we reject the null\n"
   ]
  },
  {
   "cell_type": "markdown",
   "id": "379b4149",
   "metadata": {},
   "source": [
    "A procedure that erroneaously rejects the null hypothesis only 5% of the time will--by definition--5% of the time erroneously reject the null hypothesis"
   ]
  },
  {
   "cell_type": "code",
   "execution_count": 118,
   "id": "39c36b08",
   "metadata": {},
   "outputs": [],
   "source": [
    "from typing import List\n",
    "\n",
    "def run_experiment() -> List[bool]:\n",
    "    \"\"\"Run experiment of flipping coin 1000 times, 1 if heads\"\"\"\n",
    "    return [random.random() < 0.5 for _ in range(1000)]\n",
    "\n",
    "def reject_fairness(experiment: List[bool]) -> bool:\n",
    "    \"\"\"Using the 5% significance levels\"\"\"\n",
    "    num_heads = len([flip for flip in experiment if flip])\n",
    "    return num_heads < 469 or num_heads > 531\n",
    "\n",
    "random.seed(10)\n",
    "experiments = [run_experiment() for _ in range(1000)]\n",
    "num_rejections = len([experiment for experiment in experiments if reject_fairness(experiment)])\n",
    "\n",
    "assert num_rejections == 46, \"num_rejections not 46\""
   ]
  },
  {
   "cell_type": "code",
   "execution_count": null,
   "id": "433f384e",
   "metadata": {},
   "outputs": [],
   "source": []
  },
  {
   "cell_type": "code",
   "execution_count": null,
   "id": "1622a622",
   "metadata": {},
   "outputs": [],
   "source": []
  },
  {
   "cell_type": "code",
   "execution_count": null,
   "id": "c2ca9ae8",
   "metadata": {},
   "outputs": [],
   "source": []
  },
  {
   "cell_type": "code",
   "execution_count": null,
   "id": "25901640",
   "metadata": {},
   "outputs": [],
   "source": []
  },
  {
   "cell_type": "code",
   "execution_count": null,
   "id": "36600360",
   "metadata": {},
   "outputs": [],
   "source": []
  },
  {
   "cell_type": "code",
   "execution_count": null,
   "id": "743f599e",
   "metadata": {},
   "outputs": [],
   "source": []
  },
  {
   "cell_type": "code",
   "execution_count": null,
   "id": "cf8d2667",
   "metadata": {},
   "outputs": [],
   "source": []
  }
 ],
 "metadata": {
  "kernelspec": {
   "display_name": "msds696",
   "language": "python",
   "name": "msds696"
  },
  "language_info": {
   "codemirror_mode": {
    "name": "ipython",
    "version": 3
   },
   "file_extension": ".py",
   "mimetype": "text/x-python",
   "name": "python",
   "nbconvert_exporter": "python",
   "pygments_lexer": "ipython3",
   "version": "3.8.18"
  }
 },
 "nbformat": 4,
 "nbformat_minor": 5
}

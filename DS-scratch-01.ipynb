{
 "cells": [
  {
   "cell_type": "code",
   "execution_count": 1,
   "id": "a506dd66",
   "metadata": {},
   "outputs": [
    {
     "name": "stdout",
     "output_type": "stream",
     "text": [
      "[{'id': 0, 'name': 'Hero'}, {'id': 1, 'name': 'Dunn'}, {'id': 2, 'name': 'Sue'}, {'id': 3, 'name': 'Chi'}, {'id': 4, 'name': 'Thor'}, {'id': 5, 'name': 'Clive'}, {'id': 6, 'name': 'Hicks'}, {'id': 7, 'name': 'Devin'}, {'id': 8, 'name': 'Kate'}, {'id': 9, 'name': 'Klein'}]\n"
     ]
    }
   ],
   "source": [
    "users = [\n",
    "    { \"id\": 0, \"name\": \"Hero\" },\n",
    "    { \"id\": 1, \"name\": \"Dunn\" },\n",
    "    { \"id\": 2, \"name\": \"Sue\" },\n",
    "    { \"id\": 3, \"name\": \"Chi\" },\n",
    "    { \"id\": 4, \"name\": \"Thor\" },\n",
    "    { \"id\": 5, \"name\": \"Clive\" },\n",
    "    { \"id\": 6, \"name\": \"Hicks\" },\n",
    "    { \"id\": 7, \"name\": \"Devin\" },\n",
    "    { \"id\": 8, \"name\": \"Kate\" },\n",
    "    { \"id\": 9, \"name\": \"Klein\" }\n",
    "]\n",
    "\n",
    "print(users)"
   ]
  },
  {
   "cell_type": "code",
   "execution_count": 2,
   "id": "733538e0",
   "metadata": {},
   "outputs": [
    {
     "name": "stdout",
     "output_type": "stream",
     "text": [
      "[(0, 1), (0, 2), (1, 2), (1, 3), (2, 3), (3, 4), (4, 5), (5, 6), (5, 7), (6, 8), (7, 8), (8, 9)]\n"
     ]
    }
   ],
   "source": [
    "friendship_pairs = [(0, 1), (0, 2), (1, 2), (1, 3), (2, 3), (3, 4), (4, 5), (5, 6), (5, 7), (6, 8), (7, 8), (8, 9)]\n",
    "print(friendship_pairs)"
   ]
  },
  {
   "cell_type": "code",
   "execution_count": 3,
   "id": "f3d56fc9",
   "metadata": {},
   "outputs": [
    {
     "name": "stdout",
     "output_type": "stream",
     "text": [
      "{0: [], 1: [], 2: [], 3: [], 4: [], 5: [], 6: [], 7: [], 8: [], 9: []}\n"
     ]
    }
   ],
   "source": [
    "friendships = {user[\"id\"]: [] for user in users}\n",
    "print(friendships)"
   ]
  },
  {
   "cell_type": "code",
   "execution_count": 4,
   "id": "467a3acf",
   "metadata": {},
   "outputs": [
    {
     "name": "stdout",
     "output_type": "stream",
     "text": [
      "{0: [1, 2], 1: [0, 2, 3], 2: [0, 1, 3], 3: [1, 2, 4], 4: [3, 5], 5: [4, 6, 7], 6: [5, 8], 7: [5, 8], 8: [6, 7, 9], 9: [8]}\n"
     ]
    }
   ],
   "source": [
    "for i, j in friendship_pairs:\n",
    "    friendships[i].append(j) # j is a friend of user i\n",
    "    friendships[j].append(i) # i is a friend of user j\n",
    "    \n",
    "print(friendships)"
   ]
  },
  {
   "cell_type": "code",
   "execution_count": 5,
   "id": "13d58aae",
   "metadata": {},
   "outputs": [
    {
     "name": "stdout",
     "output_type": "stream",
     "text": [
      "User 0 has 2 connections.\n",
      "User 1 has 3 connections.\n",
      "User 2 has 3 connections.\n",
      "User 3 has 3 connections.\n",
      "User 4 has 2 connections.\n",
      "User 5 has 3 connections.\n",
      "User 6 has 2 connections.\n",
      "User 7 has 2 connections.\n",
      "User 8 has 3 connections.\n",
      "User 9 has 1 connections.\n",
      "24\n"
     ]
    }
   ],
   "source": [
    "def number_of_friends(user):\n",
    "    \"\"\"How many friends does _user have?\"\"\"\n",
    "    user_id = user[\"id\"]\n",
    "    friend_ids = friendships[user_id]\n",
    "    num = len(friend_ids)\n",
    "    print(f'User {user_id} has {num} connections.')\n",
    "    return num\n",
    "\n",
    "total_connections = sum(number_of_friends(user) for user in users)\n",
    "\n",
    "print(total_connections)"
   ]
  },
  {
   "cell_type": "code",
   "execution_count": 6,
   "id": "57a061ca",
   "metadata": {},
   "outputs": [
    {
     "name": "stdout",
     "output_type": "stream",
     "text": [
      "10\n"
     ]
    }
   ],
   "source": [
    "num_users = len(users)\n",
    "print(num_users)"
   ]
  },
  {
   "cell_type": "code",
   "execution_count": 7,
   "id": "c101bbbb",
   "metadata": {},
   "outputs": [
    {
     "name": "stdout",
     "output_type": "stream",
     "text": [
      "2.4\n"
     ]
    }
   ],
   "source": [
    "avg_connections = total_connections / num_users\n",
    "print(avg_connections)"
   ]
  },
  {
   "cell_type": "code",
   "execution_count": 8,
   "id": "0cbc70ee",
   "metadata": {},
   "outputs": [
    {
     "name": "stdout",
     "output_type": "stream",
     "text": [
      "User 0 has 2 connections.\n",
      "User 1 has 3 connections.\n",
      "User 2 has 3 connections.\n",
      "User 3 has 3 connections.\n",
      "User 4 has 2 connections.\n",
      "User 5 has 3 connections.\n",
      "User 6 has 2 connections.\n",
      "User 7 has 2 connections.\n",
      "User 8 has 3 connections.\n",
      "User 9 has 1 connections.\n",
      "[(0, 2), (1, 3), (2, 3), (3, 3), (4, 2), (5, 3), (6, 2), (7, 2), (8, 3), (9, 1)]\n"
     ]
    }
   ],
   "source": [
    "num_friends_by_id = [(user[\"id\"], number_of_friends(user)) for user in users]\n",
    "print(num_friends_by_id)"
   ]
  },
  {
   "cell_type": "code",
   "execution_count": 9,
   "id": "0361562e",
   "metadata": {},
   "outputs": [
    {
     "name": "stdout",
     "output_type": "stream",
     "text": [
      "[(1, 3), (2, 3), (3, 3), (5, 3), (8, 3), (0, 2), (4, 2), (6, 2), (7, 2), (9, 1)]\n"
     ]
    }
   ],
   "source": [
    "num_friends_by_id.sort(key=lambda id_and_friends: id_and_friends[1], reverse=True)\n",
    "print(num_friends_by_id)"
   ]
  },
  {
   "cell_type": "code",
   "execution_count": 10,
   "id": "283a70be",
   "metadata": {},
   "outputs": [
    {
     "name": "stdout",
     "output_type": "stream",
     "text": [
      "[0, 2, 3, 0, 1, 3]\n"
     ]
    }
   ],
   "source": [
    "def foaf_ids_bad(user):\n",
    "    \"\"\"friend of a friend\"\"\"\n",
    "    num = [foaf_id for friend_id in friendships[user[\"id\"]] for foaf_id in friendships[friend_id]]\n",
    "    return num\n",
    "\n",
    "print(foaf_ids_bad(users[0]))"
   ]
  },
  {
   "cell_type": "code",
   "execution_count": 11,
   "id": "97563838",
   "metadata": {},
   "outputs": [
    {
     "name": "stdout",
     "output_type": "stream",
     "text": [
      "Counter({0: 2, 5: 1})\n"
     ]
    }
   ],
   "source": [
    "from collections import Counter\n",
    "\n",
    "def friends_of_friends(user):\n",
    "    user_id = user[\"id\"]\n",
    "    num = Counter(foaf_id \n",
    "                  for friend_id in friendships[user_id] \n",
    "                  for foaf_id in friendships[friend_id]\n",
    "                  if foaf_id != user_id\n",
    "                  and foaf_id not in friendships[user_id]\n",
    "                 )\n",
    "    return num\n",
    "    \n",
    "print(friends_of_friends(users[3]))"
   ]
  },
  {
   "cell_type": "code",
   "execution_count": 12,
   "id": "0574f0b6",
   "metadata": {},
   "outputs": [],
   "source": [
    "interests = [\n",
    "    (0, \"Hadoop\"), (0, \"Big Data\"), (0, \"HBase\"), (0, \"Java\"),\n",
    "    (0, \"Spark\"), (0, \"Storm\"), (0, \"Cassandra\"),\n",
    "    (1, \"NoSQL\"), (1, \"MongoDB\"), (1, \"Cassandra\"), (1, \"HBase\"),\n",
    "    (1, \"Postgres\"), (2, \"Python\"), (2, \"scikit-learn\"), (2, \"scipy\"),\n",
    "    (2, \"numpy\"), (2, \"statsmodels\"), (2, \"pandas\"), (3, \"R\"), (3, \"Python\"),\n",
    "    (3, \"statistics\"), (3, \"regression\"), (3, \"probability\"),\n",
    "    (4, \"machine learning\"), (4, \"regression\"), (4, \"decision trees\"),\n",
    "    (4, \"libsvm\"), (5, \"Python\"), (5, \"R\"), (5, \"Java\"), (5, \"C++\"),\n",
    "    (5, \"Haskell\"), (5, \"programming languages\"), (6, \"statistics\"),\n",
    "    (6, \"probability\"), (6, \"mathematics\"), (6, \"theory\"),\n",
    "    (7, \"machine learning\"), (7, \"scikit-learn\"), (7, \"Mahout\"),\n",
    "    (7, \"neural networks\"), (8, \"neural networks\"), (8, \"deep learning\"),\n",
    "    (8, \"Big Data\"), (8, \"artificial intelligence\"), (9, \"Hadoop\"),\n",
    "    (9, \"Java\"), (9, \"MapReduce\"), (9, \"Big Data\")\n",
    "]"
   ]
  },
  {
   "cell_type": "code",
   "execution_count": 13,
   "id": "751e88ca",
   "metadata": {},
   "outputs": [
    {
     "name": "stdout",
     "output_type": "stream",
     "text": [
      "[0, 5, 9]\n"
     ]
    }
   ],
   "source": [
    "def data_scientists_who_like(target_interest):\n",
    "    \"\"\"Find ids of users who like target interest\"\"\"\n",
    "    return [user_id for user_id, user_interest in interests\n",
    "           if user_interest==target_interest]\n",
    "\n",
    "print(data_scientists_who_like(\"Java\"))"
   ]
  },
  {
   "cell_type": "code",
   "execution_count": 14,
   "id": "7853e10a",
   "metadata": {},
   "outputs": [
    {
     "name": "stdout",
     "output_type": "stream",
     "text": [
      "defaultdict(<class 'list'>, {'Hadoop': [0, 9], 'Big Data': [0, 8, 9], 'HBase': [0, 1], 'Java': [0, 5, 9], 'Spark': [0], 'Storm': [0], 'Cassandra': [0, 1], 'NoSQL': [1], 'MongoDB': [1], 'Postgres': [1], 'Python': [2, 3, 5], 'scikit-learn': [2, 7], 'scipy': [2], 'numpy': [2], 'statsmodels': [2], 'pandas': [2], 'R': [3, 5], 'statistics': [3, 6], 'regression': [3, 4], 'probability': [3, 6], 'machine learning': [4, 7], 'decision trees': [4], 'libsvm': [4], 'C++': [5], 'Haskell': [5], 'programming languages': [5], 'mathematics': [6], 'theory': [6], 'Mahout': [7], 'neural networks': [7, 8], 'deep learning': [8], 'artificial intelligence': [8], 'MapReduce': [9]})\n"
     ]
    }
   ],
   "source": [
    "from collections import defaultdict\n",
    "\n",
    "# Keys are interests, values are lists of user_ids with that interest\n",
    "user_ids_by_interest = defaultdict(list)\n",
    "\n",
    "for user_id, interest in interests:\n",
    "    user_ids_by_interest[interest].append(user_id)\n",
    "    \n",
    "print(user_ids_by_interest)"
   ]
  },
  {
   "cell_type": "code",
   "execution_count": 15,
   "id": "c3a4543b",
   "metadata": {},
   "outputs": [
    {
     "name": "stdout",
     "output_type": "stream",
     "text": [
      "defaultdict(<class 'list'>, {0: ['Hadoop', 'Big Data', 'HBase', 'Java', 'Spark', 'Storm', 'Cassandra'], 1: ['NoSQL', 'MongoDB', 'Cassandra', 'HBase', 'Postgres'], 2: ['Python', 'scikit-learn', 'scipy', 'numpy', 'statsmodels', 'pandas'], 3: ['R', 'Python', 'statistics', 'regression', 'probability'], 4: ['machine learning', 'regression', 'decision trees', 'libsvm'], 5: ['Python', 'R', 'Java', 'C++', 'Haskell', 'programming languages'], 6: ['statistics', 'probability', 'mathematics', 'theory'], 7: ['machine learning', 'scikit-learn', 'Mahout', 'neural networks'], 8: ['neural networks', 'deep learning', 'Big Data', 'artificial intelligence'], 9: ['Hadoop', 'Java', 'MapReduce', 'Big Data']})\n"
     ]
    }
   ],
   "source": [
    "# Keys are user_ids, values are lists of interests for that user_id\n",
    "interests_by_user_id = defaultdict(list)\n",
    "\n",
    "for user_id, interest in interests:\n",
    "    interests_by_user_id[user_id].append(interest)\n",
    "    \n",
    "print(interests_by_user_id)"
   ]
  },
  {
   "cell_type": "code",
   "execution_count": 16,
   "id": "d5963bad",
   "metadata": {},
   "outputs": [],
   "source": [
    "def most_common_interests_with(user):\n",
    "    return Counter(\n",
    "        interested_user_id\n",
    "        for interest in interests_by_user_id[user[\"id\"]]\n",
    "        for interested_user_id in user_ids_by_interest[interest]\n",
    "        if interested_user_id != user[\"id\"]\n",
    "    )"
   ]
  },
  {
   "cell_type": "code",
   "execution_count": null,
   "id": "5f4ecd44",
   "metadata": {},
   "outputs": [],
   "source": []
  },
  {
   "cell_type": "code",
   "execution_count": 17,
   "id": "5ab2fbcf",
   "metadata": {},
   "outputs": [],
   "source": [
    "salaries_and_tenures = [(83000, 8.7), (88000, 8.1),\n",
    "                        (48000, 0.7), (76000, 6),\n",
    "                        (69000, 6.5), (76000, 7.5),\n",
    "                        (60000, 2.5), (83000, 10),\n",
    "                        (48000, 1.9), (63000, 4.2)]\n"
   ]
  },
  {
   "cell_type": "code",
   "execution_count": 18,
   "id": "48a2fa98",
   "metadata": {},
   "outputs": [],
   "source": [
    "# keys are years, values are lists of the salaries for each tenure\n",
    "salary_by_tenure = defaultdict(list)\n",
    "\n",
    "for salary, tenure in salaries_and_tenures:\n",
    "    salary_by_tenure[tenure].append(salary)\n",
    "    \n",
    "# keys are years, each value is average salary for that tenure\n",
    "average_salary_by_tenure = {\n",
    "    tenure: sum(salaries) / len(salaries)\n",
    "    for tenure, salaries in salary_by_tenure.items()\n",
    "}"
   ]
  },
  {
   "cell_type": "code",
   "execution_count": 19,
   "id": "a0c702fb",
   "metadata": {},
   "outputs": [
    {
     "name": "stdout",
     "output_type": "stream",
     "text": [
      "defaultdict(<class 'list'>, {8.7: [83000], 8.1: [88000], 0.7: [48000], 6: [76000], 6.5: [69000], 7.5: [76000], 2.5: [60000], 10: [83000], 1.9: [48000], 4.2: [63000]})\n"
     ]
    }
   ],
   "source": [
    "print(salary_by_tenure)"
   ]
  },
  {
   "cell_type": "code",
   "execution_count": 20,
   "id": "4986e50a",
   "metadata": {},
   "outputs": [
    {
     "name": "stdout",
     "output_type": "stream",
     "text": [
      "{8.7: 83000.0, 8.1: 88000.0, 0.7: 48000.0, 6: 76000.0, 6.5: 69000.0, 7.5: 76000.0, 2.5: 60000.0, 10: 83000.0, 1.9: 48000.0, 4.2: 63000.0}\n"
     ]
    }
   ],
   "source": [
    "print(average_salary_by_tenure)"
   ]
  },
  {
   "cell_type": "code",
   "execution_count": 21,
   "id": "47166bb0",
   "metadata": {},
   "outputs": [],
   "source": [
    "def tenure_bucket(tenure):\n",
    "    if tenure < 2:\n",
    "        return \"less than 2\"\n",
    "    elif tenure < 5:\n",
    "        return \"between two and five\"\n",
    "    else:\n",
    "        return \"more than five\""
   ]
  },
  {
   "cell_type": "code",
   "execution_count": 22,
   "id": "20981a77",
   "metadata": {},
   "outputs": [
    {
     "name": "stdout",
     "output_type": "stream",
     "text": [
      "defaultdict(<class 'list'>, {'more than five': [83000, 88000, 76000, 69000, 76000, 83000], 'less than 2': [48000, 48000], 'between two and five': [60000, 63000]})\n"
     ]
    }
   ],
   "source": [
    "# keys are tenure buckets, values are lists of salaries for that bucket\n",
    "salary_by_tenure_bucket = defaultdict(list)\n",
    "\n",
    "for salary, tenure in salaries_and_tenures:\n",
    "    bucket = tenure_bucket(tenure)\n",
    "    salary_by_tenure_bucket[bucket].append(salary)\n",
    "    \n",
    "print(salary_by_tenure_bucket)"
   ]
  },
  {
   "cell_type": "code",
   "execution_count": 23,
   "id": "d8ab2ebe",
   "metadata": {},
   "outputs": [
    {
     "name": "stdout",
     "output_type": "stream",
     "text": [
      "{'more than five': 79166.66666666667, 'less than 2': 48000.0, 'between two and five': 61500.0}\n"
     ]
    }
   ],
   "source": [
    "# keys are tenure buckets, values are average salary for that bucket\n",
    "average_salary_by_bucket = {\n",
    "    tenure_bucket: sum(salaries) / len(salaries)\n",
    "    for tenure_bucket, salaries in salary_by_tenure_bucket.items()\n",
    "}\n",
    "\n",
    "print(average_salary_by_bucket)"
   ]
  },
  {
   "cell_type": "code",
   "execution_count": 24,
   "id": "036a1941",
   "metadata": {},
   "outputs": [],
   "source": [
    "interests = [\n",
    "    (0, \"Hadoop\"), (0, \"Big Data\"), (0, \"HBase\"), (0, \"Java\"),\n",
    "    (0, \"Spark\"), (0, \"Storm\"), (0, \"Cassandra\"),\n",
    "    (1, \"NoSQL\"), (1, \"MongoDB\"), (1, \"Cassandra\"), (1, \"HBase\"),\n",
    "    (1, \"Postgres\"), (2, \"Python\"), (2, \"scikit-learn\"), (2, \"scipy\"),\n",
    "    (2, \"numpy\"), (2, \"statsmodels\"), (2, \"pandas\"), (3, \"R\"), (3, \"Python\"),\n",
    "    (3, \"statistics\"), (3, \"regression\"), (3, \"probability\"),\n",
    "    (4, \"machine learning\"), (4, \"regression\"), (4, \"decision trees\"),\n",
    "    (4, \"libsvm\"), (5, \"Python\"), (5, \"R\"), (5, \"Java\"), (5, \"C++\"),\n",
    "    (5, \"Haskell\"), (5, \"programming languages\"), (6, \"statistics\"),\n",
    "    (6, \"probability\"), (6, \"mathematics\"), (6, \"theory\"),\n",
    "    (7, \"machine learning\"), (7, \"scikit-learn\"), (7, \"Mahout\"),\n",
    "    (7, \"neural networks\"), (8, \"neural networks\"), (8, \"deep learning\"),\n",
    "    (8, \"Big Data\"), (8, \"artificial intelligence\"), (9, \"Hadoop\"),\n",
    "    (9, \"Java\"), (9, \"MapReduce\"), (9, \"Big Data\")\n",
    "]"
   ]
  },
  {
   "cell_type": "code",
   "execution_count": 25,
   "id": "1704e145",
   "metadata": {},
   "outputs": [
    {
     "name": "stdout",
     "output_type": "stream",
     "text": [
      "Counter({'big': 3, 'data': 3, 'java': 3, 'python': 3, 'learning': 3, 'hadoop': 2, 'hbase': 2, 'cassandra': 2, 'scikit-learn': 2, 'r': 2, 'statistics': 2, 'regression': 2, 'probability': 2, 'machine': 2, 'neural': 2, 'networks': 2, 'spark': 1, 'storm': 1, 'nosql': 1, 'mongodb': 1, 'postgres': 1, 'scipy': 1, 'numpy': 1, 'statsmodels': 1, 'pandas': 1, 'decision': 1, 'trees': 1, 'libsvm': 1, 'c++': 1, 'haskell': 1, 'programming': 1, 'languages': 1, 'mathematics': 1, 'theory': 1, 'mahout': 1, 'deep': 1, 'artificial': 1, 'intelligence': 1, 'mapreduce': 1})\n"
     ]
    }
   ],
   "source": [
    "words_and_counts = Counter(word\n",
    "                          for user, interest in interests\n",
    "                          for word in interest.lower().split())\n",
    "\n",
    "print(words_and_counts)"
   ]
  },
  {
   "cell_type": "code",
   "execution_count": 26,
   "id": "9f6e11cc",
   "metadata": {},
   "outputs": [
    {
     "name": "stdout",
     "output_type": "stream",
     "text": [
      "big 3\n",
      "data 3\n",
      "java 3\n",
      "python 3\n",
      "learning 3\n",
      "hadoop 2\n",
      "hbase 2\n",
      "cassandra 2\n",
      "scikit-learn 2\n",
      "r 2\n",
      "statistics 2\n",
      "regression 2\n",
      "probability 2\n",
      "machine 2\n",
      "neural 2\n",
      "networks 2\n"
     ]
    }
   ],
   "source": [
    "for word, count in words_and_counts.most_common():\n",
    "    if count > 1:\n",
    "        print(word, count)"
   ]
  },
  {
   "cell_type": "code",
   "execution_count": 27,
   "id": "eecc0c16",
   "metadata": {},
   "outputs": [],
   "source": [
    "tweet = {\n",
    "    \"user\": \"joelgrus\",\n",
    "    \"text\": \"Data Science is awesome\",\n",
    "    \"retweet_count\": 90,\n",
    "    \"hashtags\": [\"#data\", \"#science\", \"#datascience\", \"#awesome\", \"#yolo\"]\n",
    "}"
   ]
  },
  {
   "cell_type": "code",
   "execution_count": 28,
   "id": "efd9e8c1",
   "metadata": {},
   "outputs": [
    {
     "name": "stdout",
     "output_type": "stream",
     "text": [
      "dict_keys(['user', 'text', 'retweet_count', 'hashtags'])\n"
     ]
    }
   ],
   "source": [
    "print(tweet.keys())"
   ]
  },
  {
   "cell_type": "code",
   "execution_count": 29,
   "id": "61d13ba4",
   "metadata": {},
   "outputs": [
    {
     "name": "stdout",
     "output_type": "stream",
     "text": [
      "dict_values(['joelgrus', 'Data Science is awesome', 90, ['#data', '#science', '#datascience', '#awesome', '#yolo']])\n"
     ]
    }
   ],
   "source": [
    "print(tweet.values())"
   ]
  },
  {
   "cell_type": "code",
   "execution_count": 30,
   "id": "0a453f10",
   "metadata": {},
   "outputs": [
    {
     "name": "stdout",
     "output_type": "stream",
     "text": [
      "dict_items([('user', 'joelgrus'), ('text', 'Data Science is awesome'), ('retweet_count', 90), ('hashtags', ['#data', '#science', '#datascience', '#awesome', '#yolo'])])\n"
     ]
    }
   ],
   "source": [
    "print(tweet.items())"
   ]
  },
  {
   "cell_type": "code",
   "execution_count": 31,
   "id": "2604f5fd",
   "metadata": {},
   "outputs": [
    {
     "name": "stdout",
     "output_type": "stream",
     "text": [
      "False\n"
     ]
    }
   ],
   "source": [
    "print(90 in tweet)"
   ]
  },
  {
   "cell_type": "code",
   "execution_count": 32,
   "id": "6e557bb7",
   "metadata": {},
   "outputs": [
    {
     "name": "stdout",
     "output_type": "stream",
     "text": [
      "True\n"
     ]
    }
   ],
   "source": [
    "print(90 in tweet.values())"
   ]
  },
  {
   "cell_type": "code",
   "execution_count": 33,
   "id": "a1f45979",
   "metadata": {},
   "outputs": [
    {
     "name": "stdout",
     "output_type": "stream",
     "text": [
      "True\n"
     ]
    }
   ],
   "source": [
    "print(\"text\" in tweet)"
   ]
  },
  {
   "cell_type": "code",
   "execution_count": 34,
   "id": "f316adcf",
   "metadata": {},
   "outputs": [
    {
     "name": "stdout",
     "output_type": "stream",
     "text": [
      "hey this is a test of a python dict test this should show us if the counts of words works\n"
     ]
    }
   ],
   "source": [
    "document = \"hey this is a test of a python dict test this should show us if the counts of words works\"\n",
    "print(document)"
   ]
  },
  {
   "cell_type": "code",
   "execution_count": 35,
   "id": "ea31fc68",
   "metadata": {},
   "outputs": [
    {
     "name": "stdout",
     "output_type": "stream",
     "text": [
      "['hey', 'this', 'is', 'a', 'test', 'of', 'a', 'python', 'dict', 'test', 'this', 'should', 'show', 'us', 'if', 'the', 'counts', 'of', 'words', 'works']\n"
     ]
    }
   ],
   "source": [
    "document = document.split(\" \")\n",
    "print(document)"
   ]
  },
  {
   "cell_type": "code",
   "execution_count": 36,
   "id": "5318cf61",
   "metadata": {},
   "outputs": [
    {
     "name": "stdout",
     "output_type": "stream",
     "text": [
      "{'hey': 1, 'this': 2, 'is': 1, 'a': 2, 'test': 2, 'of': 2, 'python': 1, 'dict': 1, 'should': 1, 'show': 1, 'us': 1, 'if': 1, 'the': 1, 'counts': 1, 'words': 1, 'works': 1}\n"
     ]
    }
   ],
   "source": [
    "word_counts = {}\n",
    "for word in document:\n",
    "    try:\n",
    "        word_counts[word] += 1\n",
    "    except:\n",
    "        word_counts[word] = 1\n",
    "        \n",
    "print(word_counts)"
   ]
  },
  {
   "cell_type": "code",
   "execution_count": 37,
   "id": "46e9c341",
   "metadata": {},
   "outputs": [
    {
     "name": "stdout",
     "output_type": "stream",
     "text": [
      "Counter({'this': 2, 'a': 2, 'test': 2, 'of': 2, 'hey': 1, 'is': 1, 'python': 1, 'dict': 1, 'should': 1, 'show': 1, 'us': 1, 'if': 1, 'the': 1, 'counts': 1, 'words': 1, 'works': 1})\n"
     ]
    }
   ],
   "source": [
    "from collections import Counter\n",
    "word_counts = Counter(document)\n",
    "print(word_counts)"
   ]
  },
  {
   "cell_type": "code",
   "execution_count": 38,
   "id": "12631a4b",
   "metadata": {},
   "outputs": [
    {
     "name": "stdout",
     "output_type": "stream",
     "text": [
      "[('this', 2), ('a', 2), ('test', 2), ('of', 2), ('hey', 1), ('is', 1), ('python', 1), ('dict', 1), ('should', 1), ('show', 1)]\n"
     ]
    }
   ],
   "source": [
    "print(word_counts.most_common(10))"
   ]
  },
  {
   "cell_type": "code",
   "execution_count": 39,
   "id": "42cea249",
   "metadata": {},
   "outputs": [
    {
     "name": "stdout",
     "output_type": "stream",
     "text": [
      "this 2\n",
      "a 2\n",
      "test 2\n",
      "of 2\n",
      "hey 1\n",
      "is 1\n",
      "python 1\n",
      "dict 1\n",
      "should 1\n",
      "show 1\n"
     ]
    }
   ],
   "source": [
    "for word, count in word_counts.most_common(10):\n",
    "    print(word, count)"
   ]
  },
  {
   "cell_type": "code",
   "execution_count": 40,
   "id": "de1d6aa9",
   "metadata": {},
   "outputs": [],
   "source": [
    "# {\"\": , \"\": } DICT\n",
    "# [] LIST\n",
    "# () TUPLE\n",
    "# {2, 3} SET, no duplications\n",
    "\n",
    "# 'in' is very fast on sets and dicts\n",
    "\n",
    "def remove_duplicates_in_list(words):\n",
    "    return list(set(words))"
   ]
  },
  {
   "cell_type": "code",
   "execution_count": 41,
   "id": "ccb27308",
   "metadata": {},
   "outputs": [
    {
     "name": "stdout",
     "output_type": "stream",
     "text": [
      "<class 'list'>\n"
     ]
    }
   ],
   "source": [
    "print(type(document))"
   ]
  },
  {
   "cell_type": "code",
   "execution_count": 42,
   "id": "d9c9cf2d",
   "metadata": {},
   "outputs": [
    {
     "name": "stdout",
     "output_type": "stream",
     "text": [
      "['a', 'of', 'this', 'test', 'dict', 'counts', 'is', 'if', 'show', 'the', 'python', 'should', 'words', 'us', 'hey', 'works']\n"
     ]
    }
   ],
   "source": [
    "document_no_duplicates = remove_duplicates_in_list(document)\n",
    "print(document_no_duplicates)"
   ]
  },
  {
   "cell_type": "code",
   "execution_count": 43,
   "id": "4b17309a",
   "metadata": {},
   "outputs": [
    {
     "name": "stdout",
     "output_type": "stream",
     "text": [
      "<class 'list'>\n"
     ]
    }
   ],
   "source": [
    "print(type(document_no_duplicates))"
   ]
  },
  {
   "cell_type": "code",
   "execution_count": 44,
   "id": "6046df18",
   "metadata": {},
   "outputs": [
    {
     "name": "stdout",
     "output_type": "stream",
     "text": [
      "[('this', 2), ('a', 2), ('test', 2), ('of', 2), ('hey', 1), ('is', 1), ('python', 1), ('dict', 1), ('should', 1), ('show', 1)]\n"
     ]
    }
   ],
   "source": [
    "x = sorted(word_counts.most_common(10), key=lambda word_and_count: word_and_count[1], reverse=True)\n",
    "print(x)"
   ]
  },
  {
   "cell_type": "code",
   "execution_count": 45,
   "id": "7a16a8ed",
   "metadata": {},
   "outputs": [
    {
     "name": "stdout",
     "output_type": "stream",
     "text": [
      "[2, 2, 2, 2, 1, 1, 1, 1, 1, 1, 1, 1, 1, 1, 1, 1]\n"
     ]
    }
   ],
   "source": [
    "x2 = sorted(word_counts.values(), reverse=True)\n",
    "print(x2)"
   ]
  },
  {
   "cell_type": "code",
   "execution_count": 48,
   "id": "d38e3d1f",
   "metadata": {},
   "outputs": [],
   "source": [
    "class CountClicker:\n",
    "    \"\"\"Class with a docstring\"\"\"\n",
    "    def __init__(self, count=0):\n",
    "        self.count = count\n",
    "        \n",
    "    def __repr__(self):\n",
    "        return f\"CountClicker(count={self.count})\"\n",
    "    \n",
    "    def click(self, num_times=1):\n",
    "        \"\"\"Click the clicker a number of times\"\"\"\n",
    "        self.count += num_times\n",
    "        \n",
    "    def read(self):\n",
    "        return self.count\n",
    "    \n",
    "    def reset(self):\n",
    "        self.count = 0"
   ]
  },
  {
   "cell_type": "code",
   "execution_count": 49,
   "id": "c7c9d42d",
   "metadata": {},
   "outputs": [
    {
     "name": "stdout",
     "output_type": "stream",
     "text": [
      "CountClicker(count=0)\n"
     ]
    }
   ],
   "source": [
    "clicker1 = CountClicker()\n",
    "clicker2 = CountClicker(100)\n",
    "clicker3 = CountClicker(count=100)\n",
    "\n",
    "print(clicker1.__repr__())"
   ]
  },
  {
   "cell_type": "code",
   "execution_count": 54,
   "id": "983dbedf",
   "metadata": {},
   "outputs": [],
   "source": [
    "clicker = CountClicker()\n",
    "assert clicker.read() == 0, f\"Clicker.read supposed to be 0, got {clicker.read()}\"\n",
    "\n",
    "clicker.click()\n",
    "clicker.click()\n",
    "assert clicker.read() == 2, f\"Clicker.read supposed to be 2, got {clicker.read()}\"\n",
    "\n",
    "clicker.reset()\n",
    "assert clicker.read() == 0, f\"Clicker.read supposed to be 0 after reset, got {clicker.read()}\""
   ]
  },
  {
   "cell_type": "code",
   "execution_count": 55,
   "id": "c4ec87e0",
   "metadata": {},
   "outputs": [
    {
     "name": "stdout",
     "output_type": "stream",
     "text": [
      "['Alice', 'Bob', 'Charlie', 'Debbie']\n"
     ]
    }
   ],
   "source": [
    "names = [\"Alice\", \"Bob\", \"Charlie\", \"Debbie\"]\n",
    "print(names)"
   ]
  },
  {
   "cell_type": "code",
   "execution_count": 56,
   "id": "51a4f716",
   "metadata": {},
   "outputs": [
    {
     "name": "stdout",
     "output_type": "stream",
     "text": [
      "<enumerate object at 0x00000219451AFE00>\n"
     ]
    }
   ],
   "source": [
    "print(enumerate(names))"
   ]
  },
  {
   "cell_type": "code",
   "execution_count": 57,
   "id": "b49cb472",
   "metadata": {},
   "outputs": [
    {
     "name": "stdout",
     "output_type": "stream",
     "text": [
      "name 0 is Alice\n",
      "name 1 is Bob\n",
      "name 2 is Charlie\n",
      "name 3 is Debbie\n"
     ]
    }
   ],
   "source": [
    "for i, name in enumerate(names):\n",
    "    print(f\"name {i} is {name}\")"
   ]
  },
  {
   "cell_type": "code",
   "execution_count": 59,
   "id": "1fe89cc1",
   "metadata": {},
   "outputs": [
    {
     "name": "stdout",
     "output_type": "stream",
     "text": [
      "{'Bob', 'Alice', 'Debbie', 'Charlie'}\n"
     ]
    }
   ],
   "source": [
    "names = {\"Alice\", \"Bob\", \"Charlie\", \"Debbie\"}\n",
    "print(names)"
   ]
  },
  {
   "cell_type": "code",
   "execution_count": 60,
   "id": "febeb180",
   "metadata": {},
   "outputs": [
    {
     "name": "stdout",
     "output_type": "stream",
     "text": [
      "<enumerate object at 0x0000021944E471C0>\n"
     ]
    }
   ],
   "source": [
    "print(enumerate(names))"
   ]
  },
  {
   "cell_type": "code",
   "execution_count": 61,
   "id": "e56fa734",
   "metadata": {},
   "outputs": [
    {
     "name": "stdout",
     "output_type": "stream",
     "text": [
      "name 0 is Bob\n",
      "name 1 is Alice\n",
      "name 2 is Debbie\n",
      "name 3 is Charlie\n"
     ]
    }
   ],
   "source": [
    "for i, name in enumerate(names):\n",
    "    print(f\"name {i} is {name}\")"
   ]
  },
  {
   "cell_type": "code",
   "execution_count": 66,
   "id": "8834898b",
   "metadata": {},
   "outputs": [
    {
     "name": "stdout",
     "output_type": "stream",
     "text": [
      "dict_keys(['name', 'age'])\n",
      "('name', ['Alice', 'Bob', 'Charlie', 'Debbie'])\n",
      "('age', [29, 35, 21, 49])\n"
     ]
    }
   ],
   "source": [
    "names = {\"name\": [\"Alice\", \"Bob\", \"Charlie\", \"Debbie\"], \"age\": [29, 35, 21, 49]}\n",
    "print(names.keys())\n",
    "for item in names.items():\n",
    "    print(item)"
   ]
  },
  {
   "cell_type": "code",
   "execution_count": 70,
   "id": "4d0b836c",
   "metadata": {},
   "outputs": [
    {
     "name": "stdout",
     "output_type": "stream",
     "text": [
      "0\n",
      "2\n",
      "4\n",
      "6\n",
      "8\n",
      "10\n",
      "12\n",
      "14\n",
      "16\n",
      "18\n"
     ]
    }
   ],
   "source": [
    "evens_below_20 = (i for i in range(20) if i%2 == 0)\n",
    "for j in evens_below_20:\n",
    "    print(j)"
   ]
  },
  {
   "cell_type": "code",
   "execution_count": 71,
   "id": "d61989ce",
   "metadata": {},
   "outputs": [],
   "source": [
    "def natural_numbers():\n",
    "    \"\"\"returns 1, 2, 3...\"\"\"\n",
    "    n = 1\n",
    "    while True:\n",
    "        yield n\n",
    "        n += 1\n",
    "        \n",
    "data = natural_numbers()\n",
    "evens = (x for x in data if x%2 == 0)\n",
    "even_squares = (x ** 2 for x in evens)\n",
    "even_squares_ending_in_6 = (x for x in even_squares if x % 10 == 6)"
   ]
  },
  {
   "cell_type": "code",
   "execution_count": null,
   "id": "b5bcb9a5",
   "metadata": {},
   "outputs": [],
   "source": []
  },
  {
   "cell_type": "code",
   "execution_count": null,
   "id": "a60be065",
   "metadata": {},
   "outputs": [],
   "source": []
  },
  {
   "cell_type": "code",
   "execution_count": null,
   "id": "938188d1",
   "metadata": {},
   "outputs": [],
   "source": []
  },
  {
   "cell_type": "markdown",
   "id": "a446f423",
   "metadata": {},
   "source": [
    "## Randomness"
   ]
  },
  {
   "cell_type": "code",
   "execution_count": null,
   "id": "972077c3",
   "metadata": {},
   "outputs": [],
   "source": [
    "# random.random()\n",
    "# random.seed()\n",
    "# random.randrange()\n",
    "# random.shuffle()\n",
    "# random.choice()"
   ]
  },
  {
   "cell_type": "code",
   "execution_count": 58,
   "id": "3387f3ce",
   "metadata": {},
   "outputs": [],
   "source": [
    "import random\n",
    "random.seed(10) # ensures consistent results"
   ]
  },
  {
   "cell_type": "code",
   "execution_count": 77,
   "id": "a4f0d353",
   "metadata": {},
   "outputs": [
    {
     "name": "stdout",
     "output_type": "stream",
     "text": [
      "[0.5714025946899135, 0.4288890546751146, 0.5780913011344704, 0.20609823213950174]\n"
     ]
    }
   ],
   "source": [
    "random.seed(10) # ensures consistent results\n",
    "four_uniform_randoms = [random.random() for _ in range(4)]\n",
    "print(four_uniform_randoms)"
   ]
  },
  {
   "cell_type": "code",
   "execution_count": 78,
   "id": "913aef17",
   "metadata": {},
   "outputs": [
    {
     "name": "stdout",
     "output_type": "stream",
     "text": [
      "0.5714025946899135\n",
      "0.4288890546751146\n",
      "0.5780913011344704\n",
      "0.20609823213950174\n"
     ]
    }
   ],
   "source": [
    "random.seed(10) # ensures consistent results\n",
    "four_uniform_randoms = (random.random() for _ in range(4))\n",
    "for _ in four_uniform_randoms:\n",
    "    print(_)\n"
   ]
  },
  {
   "cell_type": "code",
   "execution_count": 82,
   "id": "4c199a11",
   "metadata": {},
   "outputs": [
    {
     "name": "stdout",
     "output_type": "stream",
     "text": [
      "2\n"
     ]
    }
   ],
   "source": [
    "print(random.randrange(10))"
   ]
  },
  {
   "cell_type": "code",
   "execution_count": 86,
   "id": "49a83a28",
   "metadata": {},
   "outputs": [
    {
     "name": "stdout",
     "output_type": "stream",
     "text": [
      "50pct theoretical, 100.0pct real\n",
      "50pct theoretical, 50.0pct real\n",
      "50pct theoretical, 33.33333333333333pct real\n",
      "50pct theoretical, 50.0pct real\n",
      "50pct theoretical, 40.0pct real\n",
      "50pct theoretical, 33.33333333333333pct real\n",
      "50pct theoretical, 28.57142857142857pct real\n",
      "50pct theoretical, 37.5pct real\n",
      "50pct theoretical, 44.44444444444444pct real\n",
      "50pct theoretical, 50.0pct real\n",
      "50pct theoretical, 45.45454545454545pct real\n",
      "50pct theoretical, 50.0pct real\n",
      "50pct theoretical, 53.84615384615385pct real\n",
      "50pct theoretical, 57.14285714285714pct real\n",
      "50pct theoretical, 60.0pct real\n",
      "50pct theoretical, 56.25pct real\n",
      "50pct theoretical, 58.82352941176471pct real\n",
      "50pct theoretical, 55.55555555555556pct real\n",
      "50pct theoretical, 57.89473684210527pct real\n",
      "50pct theoretical, 55.00000000000001pct real\n",
      "50pct theoretical, 57.14285714285714pct real\n",
      "50pct theoretical, 54.54545454545454pct real\n",
      "50pct theoretical, 56.52173913043478pct real\n",
      "50pct theoretical, 54.166666666666664pct real\n",
      "50pct theoretical, 56.00000000000001pct real\n",
      "50pct theoretical, 57.692307692307686pct real\n",
      "50pct theoretical, 59.25925925925925pct real\n",
      "50pct theoretical, 57.14285714285714pct real\n",
      "50pct theoretical, 55.172413793103445pct real\n",
      "50pct theoretical, 53.333333333333336pct real\n",
      "50pct theoretical, 54.83870967741935pct real\n",
      "50pct theoretical, 56.25pct real\n",
      "50pct theoretical, 57.57575757575758pct real\n",
      "50pct theoretical, 55.88235294117647pct real\n",
      "50pct theoretical, 57.14285714285714pct real\n",
      "50pct theoretical, 58.333333333333336pct real\n",
      "50pct theoretical, 56.75675675675676pct real\n",
      "50pct theoretical, 57.89473684210527pct real\n",
      "50pct theoretical, 56.41025641025641pct real\n",
      "50pct theoretical, 55.00000000000001pct real\n",
      "50pct theoretical, 53.65853658536586pct real\n",
      "50pct theoretical, 54.761904761904766pct real\n",
      "50pct theoretical, 55.81395348837209pct real\n",
      "50pct theoretical, 54.54545454545454pct real\n",
      "50pct theoretical, 53.333333333333336pct real\n",
      "50pct theoretical, 52.17391304347826pct real\n",
      "50pct theoretical, 51.06382978723404pct real\n",
      "50pct theoretical, 52.083333333333336pct real\n",
      "50pct theoretical, 51.02040816326531pct real\n",
      "50pct theoretical, 50.0pct real\n",
      "50pct theoretical, 49.01960784313725pct real\n",
      "50pct theoretical, 48.07692307692308pct real\n",
      "50pct theoretical, 47.16981132075472pct real\n",
      "50pct theoretical, 48.148148148148145pct real\n",
      "50pct theoretical, 49.09090909090909pct real\n",
      "50pct theoretical, 48.214285714285715pct real\n",
      "50pct theoretical, 49.122807017543856pct real\n",
      "50pct theoretical, 50.0pct real\n",
      "50pct theoretical, 50.847457627118644pct real\n",
      "50pct theoretical, 51.66666666666667pct real\n",
      "50pct theoretical, 50.81967213114754pct real\n",
      "50pct theoretical, 50.0pct real\n",
      "50pct theoretical, 49.2063492063492pct real\n",
      "50pct theoretical, 50.0pct real\n",
      "50pct theoretical, 50.76923076923077pct real\n",
      "50pct theoretical, 51.515151515151516pct real\n",
      "50pct theoretical, 50.74626865671642pct real\n",
      "50pct theoretical, 51.470588235294116pct real\n",
      "50pct theoretical, 52.17391304347826pct real\n",
      "50pct theoretical, 52.85714285714286pct real\n",
      "50pct theoretical, 53.52112676056338pct real\n",
      "50pct theoretical, 52.77777777777778pct real\n",
      "50pct theoretical, 53.42465753424658pct real\n",
      "50pct theoretical, 52.702702702702695pct real\n",
      "50pct theoretical, 53.333333333333336pct real\n",
      "50pct theoretical, 52.63157894736842pct real\n",
      "50pct theoretical, 51.94805194805194pct real\n",
      "50pct theoretical, 52.56410256410257pct real\n",
      "50pct theoretical, 51.89873417721519pct real\n",
      "50pct theoretical, 52.5pct real\n",
      "50pct theoretical, 51.85185185185185pct real\n",
      "50pct theoretical, 52.4390243902439pct real\n",
      "50pct theoretical, 53.01204819277109pct real\n",
      "50pct theoretical, 52.38095238095239pct real\n",
      "50pct theoretical, 51.76470588235295pct real\n",
      "50pct theoretical, 51.162790697674424pct real\n",
      "50pct theoretical, 51.724137931034484pct real\n",
      "50pct theoretical, 52.27272727272727pct real\n",
      "50pct theoretical, 52.80898876404494pct real\n",
      "50pct theoretical, 52.22222222222223pct real\n",
      "50pct theoretical, 52.74725274725275pct real\n",
      "50pct theoretical, 52.17391304347826pct real\n",
      "50pct theoretical, 52.68817204301075pct real\n",
      "50pct theoretical, 52.12765957446809pct real\n",
      "50pct theoretical, 52.63157894736842pct real\n",
      "50pct theoretical, 53.125pct real\n",
      "50pct theoretical, 53.608247422680414pct real\n",
      "50pct theoretical, 53.06122448979592pct real\n",
      "50pct theoretical, 52.52525252525253pct real\n",
      "50pct theoretical, 52.0pct real\n"
     ]
    }
   ],
   "source": [
    "count = 0\n",
    "three_count = 0\n",
    "for x in range(100):\n",
    "    y = random.randrange(3,5)\n",
    "    count += 1\n",
    "    if y == 3:\n",
    "        three_count += 1\n",
    "    print(f\"50pct theoretical, {three_count/count*100}pct real\")\n",
    "    \n"
   ]
  },
  {
   "cell_type": "code",
   "execution_count": 87,
   "id": "e11c3631",
   "metadata": {},
   "outputs": [
    {
     "name": "stdout",
     "output_type": "stream",
     "text": [
      "[2, 1, 3]\n"
     ]
    }
   ],
   "source": [
    "cups = [1, 2, 3]\n",
    "random.shuffle(cups)\n",
    "print(cups)"
   ]
  },
  {
   "cell_type": "code",
   "execution_count": 98,
   "id": "6a445f81",
   "metadata": {},
   "outputs": [
    {
     "name": "stdout",
     "output_type": "stream",
     "text": [
      "[2, 3, 1]\n",
      "[1, 2, 3]\n",
      "[2, 1, 3]\n",
      "[1, 3, 2]\n",
      "[2, 3, 1]\n",
      "[1, 2, 3]\n",
      "[1, 2, 3]\n",
      "[2, 1, 3]\n",
      "[1, 3, 2]\n",
      "[1, 2, 3]\n",
      "[1, 3, 2]\n",
      "[3, 2, 1]\n",
      "[3, 2, 1]\n",
      "[2, 3, 1]\n",
      "[3, 2, 1]\n",
      "Now, which position is ball 1?: 3\n",
      "Correct! balls were [2, 3, 1]\n"
     ]
    }
   ],
   "source": [
    "for x in range(15):\n",
    "    random.shuffle(cups)\n",
    "    print(cups)\n",
    "    \n",
    "random.shuffle(cups)\n",
    "y = input(\"Now, which position is ball 1?: \")\n",
    "if(cups[int(y)-1] == 1):\n",
    "    print(f\"Correct! balls were {cups}\")\n",
    "else:\n",
    "    print(f\"Incorrect! balls were {cups}\")"
   ]
  },
  {
   "cell_type": "code",
   "execution_count": 93,
   "id": "0c48beb7",
   "metadata": {},
   "outputs": [
    {
     "name": "stdout",
     "output_type": "stream",
     "text": [
      "My best friend is Borat\n"
     ]
    }
   ],
   "source": [
    "my_best_friend = random.choice(['Bob', 'Alice', 'Borat'])\n",
    "print(f\"My best friend is {my_best_friend}\")"
   ]
  },
  {
   "cell_type": "code",
   "execution_count": 94,
   "id": "4b5ac0bd",
   "metadata": {},
   "outputs": [],
   "source": [
    "import re\n",
    "\n",
    "re_examples = [\n",
    "    not re.match(\"a\", \"cat\"),\n",
    "    re.search(\"a\", \"cat\"),\n",
    "    not re.search(\"c\", \"dog\"),\n",
    "    3 == len(re.split(\"[ab]\", \"carbs\")),\n",
    "    \"R-D-\" == re.sub(\"[0-9]\", \"-\", \"R2D2\")\n",
    "]\n",
    "\n",
    "assert all(re_examples), \"All should be True\""
   ]
  },
  {
   "cell_type": "code",
   "execution_count": 96,
   "id": "00b63038",
   "metadata": {},
   "outputs": [
    {
     "name": "stdout",
     "output_type": "stream",
     "text": [
      "('a', 1)\n",
      "('b', 2)\n",
      "('c', 3)\n"
     ]
    }
   ],
   "source": [
    "list1 = ['a', 'b', 'c']\n",
    "list2 = [1, 2, 3]\n",
    "for pair in zip(list1, list2):\n",
    "    print(pair)"
   ]
  },
  {
   "cell_type": "code",
   "execution_count": 97,
   "id": "06d38259",
   "metadata": {},
   "outputs": [
    {
     "name": "stdout",
     "output_type": "stream",
     "text": [
      "Letters are ('a', 'b', 'c'), Numbers are (1, 2, 3)\n"
     ]
    }
   ],
   "source": [
    "pairs = [('a', 1), ('b', 2), ('c', 3)]\n",
    "letters, numbers = zip(*pairs)\n",
    "print(f\"Letters are {letters}, Numbers are {numbers}\")"
   ]
  },
  {
   "cell_type": "code",
   "execution_count": 99,
   "id": "fa4dfb10",
   "metadata": {},
   "outputs": [],
   "source": [
    "def doubler(f):\n",
    "    def g(x):\n",
    "        return 2 * f(x)\n",
    "    \n",
    "    return g\n",
    "\n",
    "def f1(x):\n",
    "    return x + 1\n",
    "\n",
    "g = doubler(f1)\n",
    "assert g(3) == 8, \"(3 + 1) * 2 should equal 8\"\n",
    "assert g(-1) == 0, \"(-1 + 1) * 2 should equal 0\"\n"
   ]
  },
  {
   "cell_type": "code",
   "execution_count": 100,
   "id": "dd8ff051",
   "metadata": {},
   "outputs": [
    {
     "name": "stdout",
     "output_type": "stream",
     "text": [
      "unnamed args: (1, 2, 3, 4, 5)\n",
      "keyword args: {}\n"
     ]
    }
   ],
   "source": [
    "def magic(*args, **kwargs):\n",
    "    print(\"unnamed args:\", args)\n",
    "    print(\"keyword args:\", kwargs)\n",
    "    \n",
    "magic(1, 2, 3, 4, 5)"
   ]
  },
  {
   "cell_type": "code",
   "execution_count": 102,
   "id": "d61d3352",
   "metadata": {},
   "outputs": [
    {
     "name": "stdout",
     "output_type": "stream",
     "text": [
      "unnamed args: ('stringy',)\n",
      "keyword args: {'str': 'five', 'foo': 'bar'}\n"
     ]
    }
   ],
   "source": [
    "magic(\"stringy\", str=\"five\", foo=\"bar\")"
   ]
  },
  {
   "cell_type": "code",
   "execution_count": 103,
   "id": "49feca26",
   "metadata": {},
   "outputs": [],
   "source": [
    "def other_way_magic(x, y, z):\n",
    "    return x + y + z\n",
    "\n",
    "x_y_list = [1, 2]\n",
    "z_dict = {\"z\": 3}\n",
    "assert other_way_magic(*x_y_list, **z_dict) == 6, \"1+2+3 = 6\""
   ]
  },
  {
   "cell_type": "code",
   "execution_count": 105,
   "id": "2ca2f49c",
   "metadata": {},
   "outputs": [
    {
     "name": "stdout",
     "output_type": "stream",
     "text": [
      "10.3854545\n"
     ]
    }
   ],
   "source": [
    "from typing import List\n",
    "\n",
    "def total(xs: List[float]) -> float:\n",
    "    return sum(xs)\n",
    "\n",
    "print(total([3.5, 4.54, 2.3454545]))"
   ]
  },
  {
   "cell_type": "code",
   "execution_count": null,
   "id": "4b21819e",
   "metadata": {},
   "outputs": [],
   "source": []
  },
  {
   "cell_type": "code",
   "execution_count": null,
   "id": "ac6c6ce7",
   "metadata": {},
   "outputs": [],
   "source": []
  },
  {
   "cell_type": "code",
   "execution_count": null,
   "id": "a97366f4",
   "metadata": {},
   "outputs": [],
   "source": []
  },
  {
   "cell_type": "code",
   "execution_count": null,
   "id": "a052fcdb",
   "metadata": {},
   "outputs": [],
   "source": []
  }
 ],
 "metadata": {
  "kernelspec": {
   "display_name": "msds696",
   "language": "python",
   "name": "msds696"
  },
  "language_info": {
   "codemirror_mode": {
    "name": "ipython",
    "version": 3
   },
   "file_extension": ".py",
   "mimetype": "text/x-python",
   "name": "python",
   "nbconvert_exporter": "python",
   "pygments_lexer": "ipython3",
   "version": "3.8.18"
  }
 },
 "nbformat": 4,
 "nbformat_minor": 5
}
